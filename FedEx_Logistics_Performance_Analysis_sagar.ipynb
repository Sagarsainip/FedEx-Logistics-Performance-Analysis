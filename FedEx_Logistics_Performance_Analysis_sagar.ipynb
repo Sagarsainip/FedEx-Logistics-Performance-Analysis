{
  "nbformat": 4,
  "nbformat_minor": 0,
  "metadata": {
    "colab": {
      "private_outputs": true,
      "provenance": [],
      "collapsed_sections": [
        "yQaldy8SH6Dl",
        "PH-0ReGfmX4f",
        "mDgbUHAGgjLW",
        "Y3lxredqlCYt",
        "dauF4eBmngu3",
        "bKJF3rekwFvQ",
        "PIIx-8_IphqN",
        "t27r6nlMphqO",
        "r2jJGEOYphqO",
        "b0JNsNcRphqO",
        "bamQiAODYuh1",
        "QHF8YVU7Yuh3",
        "GwzvFGzlYuh3",
        "0wOQAZs5pc--",
        "K5QZ13OEpz2H",
        "lQ7QKXXCp7Bj",
        "4Of9eVA-YrdM",
        "iky9q4vBYrdO",
        "F6T5p64dYrdO",
        "OH-pJp9IphqM",
        "bbFf2-_FphqN",
        "_ouA3fa0phqN",
        "BZR9WyysphqO",
        "YJ55k-q6phqO",
        "U2RJ9gkRphqQ",
        "x-EpHcCOp1ci",
        "X_VqEhTip1ck",
        "8zGJKyg5p1ck",
        "-zrSP0eyfXQp",
        "xu7BLlYVfXQq",
        "Yzef_nYtfXQr",
        "uJ2grVUnfYm8",
        "2PGv16V9fYnB",
        "5h2-qXYMfYnD",
        "ZQtACNCPfYnF",
        "n3dbpmDWp1ck",
        "ylSl6qgtp1ck",
        "ZWILFDl5p1ck",
        "M7G43BXep1ck",
        "E6MkPsBcp1cl",
        "2cELzS2fp1cl",
        "3MPXvC8up1cl",
        "pdvH0I66fdIu",
        "48S0zQh1feLN",
        "UV0SzAkaZNRQ",
        "YPEH6qLeZNRQ",
        "JcMwzZxoAimU",
        "gCX9965dhzqZ",
        "gIfDvo9L0UH2"
      ],
      "include_colab_link": true
    },
    "kernelspec": {
      "name": "python3",
      "display_name": "Python 3"
    },
    "language_info": {
      "name": "python"
    }
  },
  "cells": [
    {
      "cell_type": "markdown",
      "metadata": {
        "id": "view-in-github",
        "colab_type": "text"
      },
      "source": [
        "<a href=\"https://colab.research.google.com/github/Sagarsainip/FedEx-Logistics-Performance-Analysis/blob/main/FedEx_Logistics_Performance_Analysis_sagar.ipynb\" target=\"_parent\"><img src=\"https://colab.research.google.com/assets/colab-badge.svg\" alt=\"Open In Colab\"/></a>"
      ]
    },
    {
      "cell_type": "code",
      "source": [],
      "metadata": {
        "id": "I1apcow5dxii"
      },
      "execution_count": null,
      "outputs": []
    },
    {
      "cell_type": "markdown",
      "source": [
        "# **Project Name**    - FedEx Logistics Performance Analysis\n",
        "\n"
      ],
      "metadata": {
        "id": "vncDsAP0Gaoa"
      }
    },
    {
      "cell_type": "markdown",
      "source": [
        "##### **Project Type**    - EDA\n",
        "##### **Contribution**    - Individual\n",
        "##### **Team Member 1 -** Sagar Saini\n",
        "##### **Team Member 2 -** NA\n",
        "##### **Team Member 3 -** NA\n",
        "##### **Team Member 4 -** NA"
      ],
      "metadata": {
        "id": "beRrZCGUAJYm"
      }
    },
    {
      "cell_type": "markdown",
      "source": [
        "# **Project Summary -**"
      ],
      "metadata": {
        "id": "FJNUwmbgGyua"
      }
    },
    {
      "cell_type": "markdown",
      "source": [
        "As a beginner data analyst, I took on this project to better understand how data can be used to improve logistics and supply chain operations. The focus of this analysis is on FedEx Logistics' international performance, especially as eCommerce grows and global deliveries become more complex. The main idea is to explore FedEx’s operational data, figure out where improvements are possible, and suggest ideas that could make their delivery services faster, cheaper, and more reliable.\n",
        "\n",
        "The dataset I worked with includes details about purchase orders, delivery dates, shipping modes, vendor partners, and the delivery times for different shipments. The goal was to use this information to spot any delays, high-cost shipments, or service issues that might be slowing down operations or costing extra money. By studying this data carefully, I hoped to suggest changes that could improve how FedEx handles its international logistics.\n",
        "\n",
        "To start, I defined a clear business objective: to help FedEx improve their logistics system by finding operational inefficiencies and recommending solutions to save money and deliver packages on time. From there, I used some of the most popular Python libraries for data analysis, like Pandas, NumPy, Matplotlib, and Seaborn. These tools helped me clean the data, check for missing values and duplicates, and create visualizations to better understand trends and patterns.\n",
        "\n",
        "One of the first insights I discovered was about the different shipping modes FedEx uses, like Air, Sea, and Road. By comparing their delivery times and costs, I could see which shipping methods performed best in terms of speed and price. This information is useful for deciding when it makes sense to switch from one mode to another, based on factors like shipment size, destination, and cost.\n",
        "\n",
        "I also looked at how different vendors performed, identifying which ones consistently delivered on time and which ones were causing delays. This analysis is important because choosing the right vendors can make a big difference in overall delivery performance. Knowing which vendor partnerships are working well and which need attention can help FedEx negotiate better deals and avoid service problems.\n",
        "\n",
        "Another interesting part of the analysis involved looking at seasonal patterns. I noticed that delivery times and shipping costs were affected by certain periods of the year, like holidays or peak shopping seasons. Understanding these trends can help FedEx plan ahead by hiring more staff, adjusting delivery schedules, or adding extra resources to handle the extra demand.\n",
        "\n",
        "Towards the end of the project, I focused on identifying operational bottlenecks—places in the delivery process where delays were most common or costs were unusually high. Based on these findings, I came up with suggestions like changing shipping routes, trying out different shipping modes, or re-evaluating certain vendor contracts.\n",
        "\n",
        "In conclusion, this project was a great learning experience. It showed me how valuable data analysis can be in solving real-world business problems. By carefully exploring and interpreting operational data, I was able to find actionable insights that could help FedEx improve its international logistics performance. This project also gave me a better understanding of how data can support smart, cost-effective, and customer-friendly business decisions in a competitive industry like logistics."
      ],
      "metadata": {
        "id": "F6v_1wHtG2nS"
      }
    },
    {
      "cell_type": "markdown",
      "source": [
        "# **GitHub Link -**"
      ],
      "metadata": {
        "id": "w6K7xa23Elo4"
      }
    },
    {
      "cell_type": "markdown",
      "source": [
        "***GitHub Link here:-*** (https://github.com/Sagarsainip/FedEx-Logistics-Performance-Analysis)"
      ],
      "metadata": {
        "id": "h1o69JH3Eqqn"
      }
    },
    {
      "cell_type": "markdown",
      "source": [
        "# **Problem Statement**\n"
      ],
      "metadata": {
        "id": "yQaldy8SH6Dl"
      }
    },
    {
      "cell_type": "markdown",
      "source": [
        "***This dataset is designed to support the enhancement of FedEx Logistics' international supply chain by offering comprehensive information on purchase orders, shipping options, vendor partnerships, and delivery timelines. In response to the growing demands of eCommerce and expanding global distribution networks, analyzing this data will uncover operational inefficiencies, reduce transportation expenses, and boost delivery performance. The ultimate objective is to optimize logistics workflows, elevate customer satisfaction, and sustain a competitive advantage through reliable, timely, and cost-efficient delivery services***"
      ],
      "metadata": {
        "id": "DpeJGUA3kjGy"
      }
    },
    {
      "cell_type": "markdown",
      "source": [
        "#### **Define Your Business Objective?**"
      ],
      "metadata": {
        "id": "PH-0ReGfmX4f"
      }
    },
    {
      "cell_type": "markdown",
      "source": [
        "***The primary objective is to enhance the operational efficiency of FedEx Logistics' global supply chain by harnessing data-driven insights to optimize delivery performance, lower freight expenses, and improve customer experience. The aim is to pinpoint operational bottlenecks, refine logistics processes, and guarantee prompt, cost-efficient deliveries across multiple regions and sectors. This initiative will empower FedEx to strengthen its market position amid the rapid growth of eCommerce and international trade while delivering increased value to both the business and its clientele.***"
      ],
      "metadata": {
        "id": "PhDvGCAqmjP1"
      }
    },
    {
      "cell_type": "markdown",
      "source": [
        "# **General Guidelines** : -  "
      ],
      "metadata": {
        "id": "mDgbUHAGgjLW"
      }
    },
    {
      "cell_type": "markdown",
      "source": [
        "1.   Well-structured, formatted, and commented code is required.\n",
        "2.   Exception Handling, Production Grade Code & Deployment Ready Code will be a plus. Those students will be awarded some additional credits.\n",
        "     \n",
        "     The additional credits will have advantages over other students during Star Student selection.\n",
        "       \n",
        "             [ Note: - Deployment Ready Code is defined as, the whole .ipynb notebook should be executable in one go\n",
        "                       without a single error logged. ]\n",
        "\n",
        "3.   Each and every logic should have proper comments.\n",
        "4. You may add as many number of charts you want. Make Sure for each and every chart the following format should be answered.\n",
        "        \n",
        "\n",
        "```\n",
        "# Chart visualization code\n",
        "```\n",
        "            \n",
        "\n",
        "*   Why did you pick the specific chart?\n",
        "*   What is/are the insight(s) found from the chart?\n",
        "* Will the gained insights help creating a positive business impact?\n",
        "Are there any insights that lead to negative growth? Justify with specific reason.\n",
        "\n",
        "5. You have to create at least 20 logical & meaningful charts having important insights.\n",
        "\n",
        "\n",
        "[ Hints : - Do the Vizualization in  a structured way while following \"UBM\" Rule.\n",
        "\n",
        "U - Univariate Analysis,\n",
        "\n",
        "B - Bivariate Analysis (Numerical - Categorical, Numerical - Numerical, Categorical - Categorical)\n",
        "\n",
        "M - Multivariate Analysis\n",
        " ]\n",
        "\n",
        "\n",
        "\n"
      ],
      "metadata": {
        "id": "ZrxVaUj-hHfC"
      }
    },
    {
      "cell_type": "markdown",
      "source": [
        "# ***Let's Begin !***"
      ],
      "metadata": {
        "id": "O_i_v8NEhb9l"
      }
    },
    {
      "cell_type": "markdown",
      "source": [
        "## ***1. Know Your Data***"
      ],
      "metadata": {
        "id": "HhfV-JJviCcP"
      }
    },
    {
      "cell_type": "markdown",
      "source": [
        "### Import Libraries"
      ],
      "metadata": {
        "id": "Y3lxredqlCYt"
      }
    },
    {
      "cell_type": "code",
      "source": [
        "\n",
        "# Import Libraries\n",
        "import pandas as pd\n",
        "import numpy as np\n",
        "import matplotlib.pyplot as plt\n",
        "import matplotlib.patches as patches\n",
        "import matplotlib.ticker as mtick\n",
        "import matplotlib.lines as lines\n",
        "import matplotlib.image as mpimg\n",
        "import matplotlib.colors as mcolors\n",
        "import seaborn as sns\n",
        "\n",
        "import warnings\n",
        "warnings.filterwarnings('ignore')"
      ],
      "metadata": {
        "id": "M8Vqi-pPk-HR"
      },
      "execution_count": null,
      "outputs": []
    },
    {
      "cell_type": "markdown",
      "source": [
        "### Dataset Loading"
      ],
      "metadata": {
        "id": "3RnN4peoiCZX"
      }
    },
    {
      "cell_type": "code",
      "source": [
        "from google.colab import drive\n",
        "drive.mount('/content/drive')"
      ],
      "metadata": {
        "id": "nP9WeeafJx6t"
      },
      "execution_count": null,
      "outputs": []
    },
    {
      "cell_type": "code",
      "source": [
        "file_path = '/content/drive/MyDrive/Alma_better_class_course_notes/updated_FedEx_data.csv'"
      ],
      "metadata": {
        "id": "bwkpWO3jKyac"
      },
      "execution_count": null,
      "outputs": []
    },
    {
      "cell_type": "code",
      "source": [
        "#load the dataset\n",
        "FedEx_df = pd.read_csv(file_path)"
      ],
      "metadata": {
        "id": "6qdDBAV5KyEX"
      },
      "execution_count": null,
      "outputs": []
    },
    {
      "cell_type": "markdown",
      "source": [
        "### Dataset First View"
      ],
      "metadata": {
        "id": "x71ZqKXriCWQ"
      }
    },
    {
      "cell_type": "code",
      "source": [],
      "metadata": {
        "id": "oiq-lIWjojAS"
      },
      "execution_count": null,
      "outputs": []
    },
    {
      "cell_type": "code",
      "source": [
        "# Dataset First Look\n",
        "FedEx_df.head()"
      ],
      "metadata": {
        "id": "LWNFOSvLl09H"
      },
      "execution_count": null,
      "outputs": []
    },
    {
      "cell_type": "markdown",
      "source": [
        "### Dataset Rows & Columns count"
      ],
      "metadata": {
        "id": "7hBIi_osiCS2"
      }
    },
    {
      "cell_type": "code",
      "source": [
        "\n",
        "# Dataset Rows & Columns count\n",
        "print(\"Number of Rows :\" , FedEx_df.shape[0],\"Rows\")\n",
        "print(\"Number of Columns :\" , FedEx_df.shape[1],\"Columns\")"
      ],
      "metadata": {
        "id": "Kllu7SJgmLij"
      },
      "execution_count": null,
      "outputs": []
    },
    {
      "cell_type": "markdown",
      "source": [
        "### Dataset Information"
      ],
      "metadata": {
        "id": "JlHwYmJAmNHm"
      }
    },
    {
      "cell_type": "code",
      "source": [
        "# Dataset Info\n",
        "FedEx_df.info()"
      ],
      "metadata": {
        "id": "e9hRXRi6meOf"
      },
      "execution_count": null,
      "outputs": []
    },
    {
      "cell_type": "markdown",
      "source": [
        "#### Duplicate Values"
      ],
      "metadata": {
        "id": "35m5QtbWiB9F"
      }
    },
    {
      "cell_type": "code",
      "source": [
        "# Dataset Duplicate Value Count\n",
        "FedEx_df.duplicated().sum()"
      ],
      "metadata": {
        "id": "1sLdpKYkmox0"
      },
      "execution_count": null,
      "outputs": []
    },
    {
      "cell_type": "markdown",
      "source": [
        "#### Missing Values/Null Values"
      ],
      "metadata": {
        "id": "PoPl-ycgm1ru"
      }
    },
    {
      "cell_type": "code",
      "source": [
        "# Missing Values/Null Values Count\n",
        "FedEx_df.isnull().sum()"
      ],
      "metadata": {
        "id": "GgHWkxvamxVg"
      },
      "execution_count": null,
      "outputs": []
    },
    {
      "cell_type": "code",
      "source": [
        "\n",
        "# FedEx brand colors\n",
        "fedex_purple = '#4d148c'\n",
        "fedex_orange = '#ff6600'\n",
        "\n",
        "# Calculate missing values per column\n",
        "missing_counts = FedEx_df.isnull().sum()\n",
        "\n",
        "# Filter columns that have any missing values\n",
        "missing_counts = missing_counts[missing_counts > 0]\n",
        "\n",
        "# Sort missing counts descending\n",
        "missing_counts = missing_counts.sort_values(ascending=False)\n",
        "\n",
        "# Plot setup\n",
        "plt.figure(figsize=(14,7))\n",
        "\n",
        "# Use purple bars and highlight the max missing value column in orange\n",
        "colors = [fedex_orange if x == missing_counts.max() else fedex_purple for x in missing_counts]\n",
        "\n",
        "missing_counts.plot(kind='bar', color=colors, edgecolor='black')\n",
        "\n",
        "plt.title('Missing Values Count per Column', fontsize=16, fontweight='bold', color=fedex_purple)\n",
        "plt.xlabel('Columns', fontsize=14)\n",
        "plt.ylabel('Number of Missing Values', fontsize=14)\n",
        "plt.xticks(rotation=45, ha='right', fontsize=12)\n",
        "plt.yticks(fontsize=12)\n",
        "\n",
        "plt.grid(axis='y', alpha=0.7)\n",
        "\n",
        "plt.tight_layout()\n",
        "plt.show()\n",
        "\n",
        "\n"
      ],
      "metadata": {
        "id": "3q5wnI3om9sJ"
      },
      "execution_count": null,
      "outputs": []
    },
    {
      "cell_type": "markdown",
      "source": [
        "### What did you know about your dataset?"
      ],
      "metadata": {
        "id": "H0kj-8xxnORC"
      }
    },
    {
      "cell_type": "markdown",
      "source": [
        "Fedex dataset consists of 10,324 entries and 33 columns, including various fields related to procurement and shipment details, such as IDs, project codes, purchase orders, and shipping numbers. It also captures logistical details like shipment modes, vendor terms, and delivery dates. Key numerical fields include line item quantities, prices, and freight costs. Some columns contain missing data, such as \"Shipment Mode\" and \"Dosage,\" while most others are complete. Additionally, certain fields like \"Weight (Kilograms)\" and \"Freight Cost (USD)\" are stored as objects but may need conversion for numerical analysis. Overall, it’s a detailed dataset suited for procurement and supply chain analysis."
      ],
      "metadata": {
        "id": "gfoNAAC-nUe_"
      }
    },
    {
      "cell_type": "markdown",
      "source": [
        "## ***2. Understanding Your Variables***"
      ],
      "metadata": {
        "id": "nA9Y7ga8ng1Z"
      }
    },
    {
      "cell_type": "code",
      "source": [
        "# Dataset Columns\n",
        "list[FedEx_df.columns]"
      ],
      "metadata": {
        "id": "j7xfkqrt5Ag5"
      },
      "execution_count": null,
      "outputs": []
    },
    {
      "cell_type": "code",
      "source": [
        "# Dataset Describe\n",
        "FedEx_df.describe()"
      ],
      "metadata": {
        "id": "DnOaZdaE5Q5t"
      },
      "execution_count": null,
      "outputs": []
    },
    {
      "cell_type": "markdown",
      "source": [
        "### Variables Description"
      ],
      "metadata": {
        "id": "PBTbrJXOngz2"
      }
    },
    {
      "cell_type": "markdown",
      "source": [
        "***Variable Name\tDescription:***\n",
        "* **Country** :-\tDestination country where the shipment is being sent.\n",
        "* **Managed** :- By\tName of the person or department managing the shipment process.\n",
        "* **Fulfill Via** :--\tMethod of fulfillment, indicating how the order will be processed (like Direct, Vendor, etc.).\n",
        "* **Shipment Mode** :-\tMode of transportation used for shipment, such as Air, Sea, Road, or Rail.\n",
        "* **PQ First Sent to Client Date** :-\tDate when the first price quotation (PQ) was sent to the client.\n",
        "* **PO Sent to Vendor Dat** :-e\tDate when the purchase order (PO) was sent to the vendor.\n",
        "* **Scheduled Delivery Date** :-\tPlanned date for the shipment to reach the client.\n",
        "* **Delivered to Client Date** :-\tActual date when the shipment was delivered to the client.\n",
        "* **Delivery Recorded Date** :-\tDate when the delivery completion was recorded in the system.\n",
        "* **Line Item Quantity** :-\tNumber of individual product units in the shipment.\n",
        "* **Line Item Value** :-\tTotal monetary value of the shipment's product items.\n",
        "* **Weight (Kilograms)** :-\tTotal weight of the shipment in kilograms.\n",
        "* **Freight Cost (USD)** :-\tShipping cost charged for transporting the shipment, in US dollars.\n",
        "* **Vendor** :-\tName of the vendor or supplier providing the shipment items.\n",
        "* **Line Item Insurance (USD)** :-\tInsurance cost applied to cover the shipment value, in US dollars.\n",
        "* **Delivery Year** :-\tYear in which the delivery was made.\n",
        "* **Lead Time Days** :-\tNumber of days taken from placing the order to delivering it to the client."
      ],
      "metadata": {
        "id": "aJV4KIxSnxay"
      }
    },
    {
      "cell_type": "markdown",
      "source": [
        "### Check Unique Values for each variable."
      ],
      "metadata": {
        "id": "u3PMJOP6ngxN"
      }
    },
    {
      "cell_type": "code",
      "source": [
        "# Check Unique Values for each variable.\n",
        "for column in FedEx_df.columns:\n",
        "    print(f\"{column} : {len(FedEx_df[column].unique())}\")"
      ],
      "metadata": {
        "id": "zms12Yq5n-jE"
      },
      "execution_count": null,
      "outputs": []
    },
    {
      "cell_type": "markdown",
      "source": [
        "## 3. ***Data Wrangling***"
      ],
      "metadata": {
        "id": "dauF4eBmngu3"
      }
    },
    {
      "cell_type": "markdown",
      "source": [
        "### Data Wrangling Code"
      ],
      "metadata": {
        "id": "bKJF3rekwFvQ"
      }
    },
    {
      "cell_type": "code",
      "source": [
        "\n",
        "# Write your code to make your dataset analysis ready.\n",
        "FedEx_df = FedEx_df[['Country','Managed By','Fulfill Via','Shipment Mode','PQ First Sent to Client Date','PO Sent to Vendor Date','Scheduled Delivery Date','Delivered to Client Date',\n",
        "                     'Delivery Recorded Date','Line Item Quantity','Line Item Value','Weight (Kilograms)','Freight Cost (USD)','Vendor','Line Item Insurance (USD)']]\n",
        "\n",
        "shipment_mode_mode = FedEx_df['Shipment Mode'].mode()[0]  # Get the most common value\n",
        "FedEx_df['Shipment Mode'].fillna(shipment_mode_mode, inplace=True)  # Fill with the mode\n",
        "\n",
        "\n",
        "FedEx_df['Line Item Insurance (USD'] = FedEx_df['Line Item Insurance (USD)'].fillna(0)  # Fill with 0\n",
        "\n",
        "\n",
        "FedEx_df.drop_duplicates(inplace=True)\n",
        "\n",
        "\n",
        "date_columns = ['PQ First Sent to Client Date', 'PO Sent to Vendor Date',\n",
        "                'Scheduled Delivery Date', 'Delivered to Client Date',\n",
        "                'Delivery Recorded Date']\n",
        "for col in date_columns:\n",
        "    FedEx_df[col] = pd.to_datetime(FedEx_df[col], errors='coerce')  # Convert to datetime, coerce errors\n",
        "\n",
        "\n",
        "numeric_columns = ['Line Item Quantity', 'Line Item Value', 'Weight (Kilograms)',\n",
        "                   'Freight Cost (USD)', 'Line Item Insurance (USD)']\n",
        "for col in numeric_columns:\n",
        "    FedEx_df[col] = pd.to_numeric(FedEx_df[col], errors='coerce')  # Ensure numeric type\n",
        "\n",
        "\n",
        "FedEx_df['Country'] = FedEx_df['Country'].str.strip().str.lower()  # Example normalization\n",
        "\n",
        "# Creating  a new column for year as categorical for further analysis\n",
        "FedEx_df['Delivery Year'] = FedEx_df['Delivered to Client Date'].dt.year\n",
        "\n",
        "# Calculate delivery lead time in days for further analysis.\n",
        "FedEx_df['Lead Time Days'] = (FedEx_df['Delivered to Client Date'] - FedEx_df['Scheduled Delivery Date']).dt.days\n",
        "\n",
        "\n",
        "\n",
        "\n",
        "# Check the cleaned data\n",
        "print(FedEx_df.info())\n"
      ],
      "metadata": {
        "id": "wk-9a2fpoLcV"
      },
      "execution_count": null,
      "outputs": []
    },
    {
      "cell_type": "markdown",
      "source": [
        "### What all manipulations have you done and insights you found?"
      ],
      "metadata": {
        "id": "MSa1f5Uengrz"
      }
    },
    {
      "cell_type": "markdown",
      "source": [
        "***I started by selecting only the important columns needed for analysis. Missing values in Shipment Mode were filled using the most common value, and Line Item Insurance (USD) missing entries were replaced with 0. I removed duplicate records to maintain data accuracy. All date columns were converted into datetime format for easy calculations. Numeric columns were converted to proper numeric types to avoid errors in calculations. Country names were standardized by converting them to lowercase and removing extra spaces. A new Delivery Year column was created for year-wise analysis. I also calculated a Lead Time Days column to measure delivery delays. These manipulations made the dataset clean, consistent, and ready for analysis. It helped identify delays and cost patterns to support better logistics decisions.***"
      ],
      "metadata": {
        "id": "LbyXE7I1olp8"
      }
    },
    {
      "cell_type": "markdown",
      "source": [
        "## ***4. Data Vizualization, Storytelling & Experimenting with charts : Understand the relationships between variables***"
      ],
      "metadata": {
        "id": "GF8Ens_Soomf"
      }
    },
    {
      "cell_type": "markdown",
      "source": [
        "***Univariate Analysis by charts :***"
      ],
      "metadata": {
        "id": "HBVMRQn0aVG3"
      }
    },
    {
      "cell_type": "markdown",
      "source": [
        "#### Chart - 1/Distribution (Shipment Modes)"
      ],
      "metadata": {
        "id": "PIIx-8_IphqN"
      }
    },
    {
      "cell_type": "code",
      "source": [
        "# Chart - 1 visualization code\n",
        "\n",
        "# Count of each shipment mode\n",
        "shipment_mode_counts = FedEx_df['Shipment Mode'].value_counts()\n",
        "\n",
        "# FedEx theme color palette\n",
        "colors = ['#4d148c', '#ff6600', '#cccccc', '#999999']\n",
        "\n",
        "# Set explode values to cut the 'Truck' slice\n",
        "explode = [0.1 if mode == 'Truck' else 0 for mode in shipment_mode_counts.index]\n",
        "\n",
        "# Create the pie chart\n",
        "plt.figure(figsize=(8, 6))\n",
        "\n",
        "# Plot the pie chart\n",
        "plt.pie(shipment_mode_counts , labels=shipment_mode_counts.index , colors=colors , autopct='%.0f%%' , startangle=90 , explode=explode)\n",
        "\n",
        "# Add chart title\n",
        "plt.title('Shipment Mode Distribution', fontsize=14, fontweight='bold')\n",
        "\n",
        "# Display the chart\n",
        "plt.tight_layout()\n",
        "plt.show()\n"
      ],
      "metadata": {
        "id": "lqAIGUfyphqO"
      },
      "execution_count": null,
      "outputs": []
    },
    {
      "cell_type": "markdown",
      "source": [
        "##### 1. Why did you pick the specific chart?"
      ],
      "metadata": {
        "id": "t27r6nlMphqO"
      }
    },
    {
      "cell_type": "markdown",
      "source": [
        "~ ***Answer:***\n",
        " * I chose a pie chart because it’s the simplest way to show how different shipment modes are divided in the data. It clearly shows the percentage share of each mode, making it easy to compare which one is used the most and which one is less. Also, it looks clean and is easy to understand for anyone at a glance."
      ],
      "metadata": {
        "id": "iv6ro40sphqO"
      }
    },
    {
      "cell_type": "markdown",
      "source": [
        "##### 2. What is/are the insight(s) found from the chart?"
      ],
      "metadata": {
        "id": "r2jJGEOYphqO"
      }
    },
    {
      "cell_type": "markdown",
      "source": [
        "~ ***Insights:***\n",
        " * Air shipment is the most used mode with 63% of consignments, likely because it is fast and efficient.\n",
        "\n",
        " * Trucking makes up 27%, showing it’s important for local or regional deliveries.\n",
        "\n",
        " * Air Charter accounts for 5%, probably used for urgent or special shipments.\n",
        "\n",
        " * Ocean freight is the least used at 4%, possibly due to longer delivery times."
      ],
      "metadata": {
        "id": "Po6ZPi4hphqO"
      }
    },
    {
      "cell_type": "markdown",
      "source": [
        "##### 3. Will the gained insights help creating a positive business impact?\n",
        "Are there any insights that lead to negative growth? Justify with specific reason."
      ],
      "metadata": {
        "id": "b0JNsNcRphqO"
      }
    },
    {
      "cell_type": "markdown",
      "source": [
        "~ ***Positive Business Impacts:**\n",
        "\n",
        " * Knowing that air shipments are most used helps the company focus on improving air logistics for faster deliveries.\n",
        "\n",
        " * Understanding trucking’s role shows where to optimize ground transport for regional deliveries.\n",
        "\n",
        " * The data about air charter and ocean freight helps plan special shipments and consider cost vs. speed options.\n",
        "\n",
        "~ ***Potential Negative Impacts:***\n",
        " * Low use of ocean freight might mean missed opportunities for cheaper shipping of heavy or bulk goods.\n",
        "\n",
        " * Heavy reliance on air transport could increase costs and risks if there are delays or disruptions in air services."
      ],
      "metadata": {
        "id": "xvSq8iUTphqO"
      }
    },
    {
      "cell_type": "markdown",
      "source": [
        "#### Chart - 2/Distribution of Weight (in Kilograms)"
      ],
      "metadata": {
        "id": "bamQiAODYuh1"
      }
    },
    {
      "cell_type": "code",
      "source": [
        "# Chart - 2 visualization code\n",
        "# Create figure and axis\n",
        "plt.figure(figsize=(8,4))\n",
        "\n",
        "# Plot the boxplot for shipment weights without outliers\n",
        "sns.boxplot(x='Weight (Kilograms)', data=FedEx_df, color='#4d148c', showfliers=False)\n",
        "\n",
        "# Add titles and labels\n",
        "plt.title('Shipment Weight Distribution', fontsize=16, fontweight='bold')\n",
        "plt.xlabel('Weight (Kilograms)', fontsize=14)\n",
        "\n",
        "# Set basic style\n",
        "sns.set(style=\"whitegrid\")\n",
        "\n",
        "# Add gridlines for readability\n",
        "plt.grid(axis='x', linestyle='--', alpha=0.5)\n",
        "\n",
        "# Adjust layout to prevent label cut-offs\n",
        "plt.tight_layout()\n",
        "\n",
        "# Show the plot\n",
        "plt.show()\n"
      ],
      "metadata": {
        "id": "TIJwrbroYuh3"
      },
      "execution_count": null,
      "outputs": []
    },
    {
      "cell_type": "markdown",
      "source": [
        "##### 1. Why did you pick the specific chart?"
      ],
      "metadata": {
        "id": "QHF8YVU7Yuh3"
      }
    },
    {
      "cell_type": "markdown",
      "source": [
        "~ ***Answer:***\n",
        " * I chose the box plot because it clearly shows the distribution and spread of shipment weights. It helps identify the median, range, and any outliers, making it easy to understand weight patterns and spot unusual shipments."
      ],
      "metadata": {
        "id": "dcxuIMRPYuh3"
      }
    },
    {
      "cell_type": "markdown",
      "source": [
        "##### 2. What is/are the insight(s) found from the chart?"
      ],
      "metadata": {
        "id": "GwzvFGzlYuh3"
      }
    },
    {
      "cell_type": "markdown",
      "source": [
        "~ ***Insights:***\n",
        "* The box plot for shipment weights in kilograms looks almost empty, which means there might be very little variation in the shipment weights.\n",
        "\n",
        "* It seems like most of the shipment weights fall within a very small or similar range.\n",
        "\n",
        "* There are no visible outliers or distinct quartile ranges in the plot, making it difficult to properly understand the overall distribution.\n",
        "\n",
        "* This could either mean the dataset is missing some data or most shipments are almost the same in weight.\n",
        "\n",
        "* I think it would be a good idea to check the data again to confirm if there are missing values or if the shipment weights are actually so consistent."
      ],
      "metadata": {
        "id": "uyqkiB8YYuh3"
      }
    },
    {
      "cell_type": "markdown",
      "source": [
        "##### 3. Will the gained insights help creating a positive business impact?\n",
        "Are there any insights that lead to negative growth? Justify with specific reason."
      ],
      "metadata": {
        "id": "qYpmQ266Yuh3"
      }
    },
    {
      "cell_type": "markdown",
      "source": [
        "~ ***Positive Business Impacts:***\n",
        "\n",
        " * Yes, the insights help identify shipment weight patterns, which can improve packaging and transportation planning.\n",
        "\n",
        " * They can highlight areas where data might be missing or inconsistent, allowing for better data management.\n",
        "\n",
        "~ ***Potential Negative Impacts:***\n",
        " * One potential negative insight is the lack of data variability or missing data in shipment weights.\n",
        "\n",
        " * If the data is incomplete or inaccurate, it can lead to wrong conclusions and poor business decisions."
      ],
      "metadata": {
        "id": "_WtzZ_hCYuh4"
      }
    },
    {
      "cell_type": "markdown",
      "source": [
        "#### Chart - 3/Shipment Counts  (by Country)"
      ],
      "metadata": {
        "id": "0wOQAZs5pc--"
      }
    },
    {
      "cell_type": "code",
      "source": [
        "# Setting the basic style\n",
        "sns.set(style=\"whitegrid\")\n",
        "\n",
        "# Creating figure and axis\n",
        "plt.figure(figsize=(10,6))\n",
        "\n",
        "# Define a custom color palette with 4 colors (FedEx-themed + white)\n",
        "palette = ['#4d148c', '#ff6600', '#f8f8f8', '#a7a9ac'] * 3  # repeat to cover 10 bars\n",
        "\n",
        "# Plot count of shipments by top 10 countries\n",
        "ax = sns.countplot(x='Country', data=FedEx_df , order=FedEx_df['Country'].value_counts().nlargest(10).index , palette=palette)\n",
        "\n",
        "# Setting the background color of the axes\n",
        "ax.set_facecolor('#f0f0f0')\n",
        "\n",
        "# Adding title and labels\n",
        "plt.title('Top 10 Shipment Counts by Country', fontsize=12, fontweight='bold')\n",
        "plt.xlabel('Country', fontsize=14)\n",
        "plt.ylabel('Number of Shipments', fontsize=14)\n",
        "\n",
        "# Rotate x-axis labels\n",
        "plt.xticks(rotation=45, ha='right')\n",
        "\n",
        "# Adjust layout and display\n",
        "plt.tight_layout()\n",
        "plt.show()\n"
      ],
      "metadata": {
        "id": "7v_ESjsspbW7",
        "collapsed": true
      },
      "execution_count": null,
      "outputs": []
    },
    {
      "cell_type": "markdown",
      "source": [
        "##### 1. Why did you pick the specific chart?"
      ],
      "metadata": {
        "id": "K5QZ13OEpz2H"
      }
    },
    {
      "cell_type": "markdown",
      "source": [
        "~ ***Answer:***\n",
        " * I used a countplot to show the number of shipments per country because it clearly displays how many shipments each country has. It helps compare the top 10 countries easily by counting the occurrences. The chart is simple and clean, with rotated labels and a grid to make it easier to read. Overall, it provides a quick and clear view of shipment distribution during the exploratory data analysis."
      ],
      "metadata": {
        "id": "XESiWehPqBRc"
      }
    },
    {
      "cell_type": "markdown",
      "source": [
        "##### 2. What is/are the insight(s) found from the chart?"
      ],
      "metadata": {
        "id": "lQ7QKXXCp7Bj"
      }
    },
    {
      "cell_type": "markdown",
      "source": [
        "~ ***Insights:***\n",
        " * South African countries have the highest shipment counts in the dataset.\n",
        "\n",
        " * This could be due to strong trade routes and demand in industries like mining, agriculture, and manufacturing.\n",
        "\n",
        " * Nigeria and Cote d’Ivoire also handle a good number of shipments, ranking just below the top.\n",
        "\n",
        " * Zimbabwe and Tanzania are on the lower side of the top 10 but still see regular shipment activity.\n",
        "\n",
        " * Vietnam’s position might be because it’s a major manufacturing hub in Southeast Asia.\n",
        "\n",
        " * Overall, the chart highlights a diverse global trade network with active markets in both Africa and Asia."
      ],
      "metadata": {
        "id": "C_j1G7yiqdRP"
      }
    },
    {
      "cell_type": "markdown",
      "source": [
        "##### 3. Will the gained insights help creating a positive business impact?\n",
        "Are there any insights that lead to negative growth? Justify with specific reason."
      ],
      "metadata": {
        "id": "448CDAPjqfQr"
      }
    },
    {
      "cell_type": "markdown",
      "source": [
        "~ ***Positive Business Impact:***\n",
        " * Useful for targeting marketing campaigns and optimizing operations in high-demand regions.\n",
        "\n",
        " * Shows opportunities for regional partnerships or expanding services in growing markets\n",
        "\n",
        "~ ***Potential Negative Impacts:***\n",
        " * But countries with lower shipment counts in the top 10 (like Zimbabwe and Tanzania) could indicate limited business activity or untapped market potential.\n",
        "\n",
        " * It’s a signal to analyze those markets deeper and check if the low numbers are due to poor service coverage, low demand, or other business challenges."
      ],
      "metadata": {
        "id": "3cspy4FjqxJW"
      }
    },
    {
      "cell_type": "markdown",
      "source": [
        "#### Chart - 4/Freight Cost (Avg)"
      ],
      "metadata": {
        "id": "4Of9eVA-YrdM"
      }
    },
    {
      "cell_type": "code",
      "source": [
        "# Chart - 4 visualization code\n",
        "\n",
        "# Calculate average freight cost\n",
        "avg_freight_cost = FedEx_df['Freight Cost (USD)'].mean()\n",
        "\n",
        "# Create the figure and axis\n",
        "plt.figure(figsize=(12, 6))\n",
        "\n",
        "# Plot histogram with KDE\n",
        "sns.histplot(FedEx_df['Freight Cost (USD)'], kde=True, bins=30, color='#4d148c')\n",
        "\n",
        "# Add average line\n",
        "plt.axvline(avg_freight_cost, color='#ff6600', linestyle='--', linewidth=2)\n",
        "\n",
        "# Add average text annotation\n",
        "plt.text(avg_freight_cost + 500 , plt.ylim()[1] * 0.8 , f'Average: ${avg_freight_cost:.2f}', color='black', fontsize=10, fontweight='bold')\n",
        "\n",
        "# Add title and labels\n",
        "plt.title('Freight Cost Distribution', fontsize=16, fontweight='bold', color='#4d148c')\n",
        "plt.xlabel('Freight Cost (USD)', fontsize=13)\n",
        "plt.ylabel('Number of Shipments', fontsize=13)\n",
        "\n",
        "# Adjust layout and Showing the chart\n",
        "plt.tight_layout()\n",
        "plt.show()\n"
      ],
      "metadata": {
        "id": "irlUoxc8YrdO"
      },
      "execution_count": null,
      "outputs": []
    },
    {
      "cell_type": "markdown",
      "source": [
        "##### 1. Why did you pick the specific chart?"
      ],
      "metadata": {
        "id": "iky9q4vBYrdO"
      }
    },
    {
      "cell_type": "markdown",
      "source": [
        "~ ***Answer:***\n",
        " * I chose a histogram with KDE because it’s the best way to see how the Freight Cost (USD) values are spread out. Since it’s numerical data, a histogram clearly shows how many shipments fall into different cost ranges and whether the data is skewed or balanced. The KDE line makes it easier to spot patterns like peaks and outliers."
      ],
      "metadata": {
        "id": "aJRCwT6DYrdO"
      }
    },
    {
      "cell_type": "markdown",
      "source": [
        "##### 2. What is/are the insight(s) found from the chart?"
      ],
      "metadata": {
        "id": "F6T5p64dYrdO"
      }
    },
    {
      "cell_type": "markdown",
      "source": [
        "~ ***Insights:***\n",
        "\n",
        " * Most shipments have a freight cost lower than $11,076.78.\n",
        "\n",
        " * The distribution is right-skewed, meaning a few shipments are very expensive.\n",
        "\n",
        " * Very few shipments go beyond $50,000, showing that high-cost deliveries are rare."
      ],
      "metadata": {
        "id": "Xx8WAJvtYrdO"
      }
    },
    {
      "cell_type": "markdown",
      "source": [
        "##### 3. Will the gained insights help creating a positive business impact?\n",
        "Are there any insights that lead to negative growth? Justify with specific reason."
      ],
      "metadata": {
        "id": "y-Ehk30pYrdP"
      }
    },
    {
      "cell_type": "markdown",
      "source": [
        "~ ***Positive business impact:***\n",
        "\n",
        " * Knowing most shipments cost below the average helps focus on optimizing common, lower-cost shipments to save money.\n",
        "\n",
        " * Identifying few high-cost shipments can help investigate and reduce these expensive deliveries.\n",
        "\n",
        " * Understanding cost distribution aids better budget planning and resource allocation in logistics\n",
        "\n",
        "~ ***Potential Negative Impacts:***\n",
        "\n",
        " * The presence of very high-cost shipments could increase overall expenses if not managed well.\n",
        "\n",
        " * If high-cost shipments grow over time, it might hurt profit margins and affect business sustainability.\n"
      ],
      "metadata": {
        "id": "jLNxxz7MYrdP"
      }
    },
    {
      "cell_type": "markdown",
      "source": [
        "#### Chart - 5/Highest orders (by vendors)"
      ],
      "metadata": {
        "id": "OH-pJp9IphqM"
      }
    },
    {
      "cell_type": "code",
      "source": [
        "# Chart - 5 visualization code\n",
        "# Set FedEx theme colors (purple and orange)\n",
        "fedex_palette = ['#4d148c', '#ff6600', '#4d148c', '#ff6600', '#4d148c']\n",
        "\n",
        "# Create the plot\n",
        "fig, ax = plt.subplots(figsize=(10,6))\n",
        "\n",
        "# Plot countplot for top 5 vendors with FedEx theme colors\n",
        "sns.countplot(x='Vendor', data=FedEx_df , order=FedEx_df['Vendor'].value_counts().nlargest(5).index , palette=fedex_palette,ax=ax)\n",
        "\n",
        "# Title and labels\n",
        "ax.set_title('Highest orders (by vendors)', fontsize=16, fontweight='bold')\n",
        "ax.set_xlabel('Vendor', fontsize=14)\n",
        "ax.set_ylabel('Number of Orders', fontsize=14)\n",
        "\n",
        "# Rotate x-axis labels for readability\n",
        "plt.xticks(rotation=45, ha='right')\n",
        "\n",
        "# Add gridlines on y-axis for clarity\n",
        "ax.grid(axis='y', linestyle='--', alpha=0.6)\n",
        "\n",
        "# Adjust layout and Showing the chart\n",
        "plt.tight_layout()\n",
        "plt.show()\n"
      ],
      "metadata": {
        "id": "kuRf4wtuphqN"
      },
      "execution_count": null,
      "outputs": []
    },
    {
      "cell_type": "markdown",
      "source": [
        "##### 1. Why did you pick the specific chart?"
      ],
      "metadata": {
        "id": "bbFf2-_FphqN"
      }
    },
    {
      "cell_type": "markdown",
      "source": [
        "~***Answer:***\n",
        " * I picked the countplot because it clearly shows the number of orders for each vendor. Since the 'Vendor' column has categories (vendor names), this chart makes it easy to compare which vendors have the highest order counts. It helps quickly identify the top vendors, making the data simple and clear to understand."
      ],
      "metadata": {
        "id": "loh7H2nzphqN"
      }
    },
    {
      "cell_type": "markdown",
      "source": [
        "##### 2. What is/are the insight(s) found from the chart?"
      ],
      "metadata": {
        "id": "_ouA3fa0phqN"
      }
    },
    {
      "cell_type": "markdown",
      "source": [
        "~ ***Insights:***\n",
        " * SCMS from RDC is the top vendor with the highest number of orders, over 5000.\n",
        "\n",
        " * Other vendors like Ogenics, Ltd and S. BUYS WHOLESALER have much fewer orders, around 1000 or less.\n",
        "\n",
        " * There is a big gap between the top vendor and the others, showing SCMS from RDC is the main supplier."
      ],
      "metadata": {
        "id": "VECbqPI7phqN"
      }
    },
    {
      "cell_type": "markdown",
      "source": [
        "##### 3. Will the gained insights help creating a positive business impact?\n",
        "Are there any insights that lead to negative growth? Justify with specific reason."
      ],
      "metadata": {
        "id": "Seke61FWphqN"
      }
    },
    {
      "cell_type": "markdown",
      "source": [
        "~ ***Positive Business Impacts:**\n",
        "\n",
        " * Knowing SCMS from RDC is the main vendor helps focus on strengthening that partnership for better supply chain management.\n",
        "\n",
        " * Understanding vendor order distribution can help negotiate better deals or improve vendor performance.\n",
        "\n",
        " * It highlights opportunities to diversify vendors to reduce risks from over-reliance on one supplier.\n",
        "\n",
        "~ ***Potential Negative Impacts:***\n",
        "\n",
        " * Heavy dependence on SCMS from RDC could be risky if issues arise with that vendor, potentially disrupting supply.\n",
        "\n",
        " * Low orders from other vendors might mean missed opportunities for competition or better pricing."
      ],
      "metadata": {
        "id": "DW4_bGpfphqN"
      }
    },
    {
      "cell_type": "markdown",
      "source": [
        "#### Chart - 6/Line Item Quantity Distribution"
      ],
      "metadata": {
        "id": "BZR9WyysphqO"
      }
    },
    {
      "cell_type": "code",
      "source": [
        "# Chart - 6 visualization code\n",
        "\n",
        "# Count of the most frequent Line Item Quantities\n",
        "count_line_quantity = FedEx_df['Line Item Quantity'].value_counts()\n",
        "\n",
        "# Create figure and axis\n",
        "plt.figure(figsize=(10,6))\n",
        "\n",
        "# Plotting histogram with KDE True\n",
        "sns.histplot(x='Line Item Quantity', data=FedEx_df, bins=30, kde=True, color='#ff6600')\n",
        "\n",
        "# Add title and labels\n",
        "plt.title('Line Item Quantity Distribution', fontsize=16, fontweight='bold')\n",
        "plt.xlabel('Line Item Quantity', fontsize=14)\n",
        "plt.ylabel('Count', fontsize=14)\n",
        "\n",
        "# Set background style\n",
        "sns.set(style=\"whitegrid\")\n",
        "\n",
        "# Show most frequent quantities as text on the plot\n",
        "top5_text = count_line_quantity.head(5).to_string()\n",
        "plt.text(x=max(FedEx_df['Line Item Quantity']) * 0.6, y=plt.ylim()[1]*0.7,\n",
        "         s=f\"Most frequent quantities:\\n{top5_text}\", fontsize=12, color='black', bbox=dict(facecolor='white', alpha=0.7))\n",
        "\n",
        "# Adjust layout and showing the chart\n",
        "plt.tight_layout()\n",
        "plt.show()\n"
      ],
      "metadata": {
        "id": "TdPTWpAVphqO"
      },
      "execution_count": null,
      "outputs": []
    },
    {
      "cell_type": "markdown",
      "source": [
        "##### 1. Why did you pick the specific chart?"
      ],
      "metadata": {
        "id": "jj7wYXLtphqO"
      }
    },
    {
      "cell_type": "markdown",
      "source": [
        "~ ***Answer:***\n",
        " * I picked the histogram because it helps show how the quantities of line items are distributed in the dataset. It makes it easy to see which quantities are most common and how spread out the data is. This type of chart is simple and clear for understanding frequency and patterns in numeric data like line item quantities."
      ],
      "metadata": {
        "id": "Ob8u6rCTphqO"
      }
    },
    {
      "cell_type": "markdown",
      "source": [
        "##### 2. What is/are the insight(s) found from the chart?"
      ],
      "metadata": {
        "id": "eZrbJ2SmphqO"
      }
    },
    {
      "cell_type": "markdown",
      "source": [
        "~ ***Insights:***\n",
        " * Most shipments have a line item quantity of 1 or 2, showing that small orders are very common.\n",
        "\n",
        " * There are fewer shipments with higher quantities, which means bulk orders happen less often.\n",
        "\n",
        " * The data is skewed toward lower quantities, suggesting many shipments are small and frequent rather than large and rare."
      ],
      "metadata": {
        "id": "mZtgC_hjphqO"
      }
    },
    {
      "cell_type": "markdown",
      "source": [
        "##### 3. Will the gained insights help creating a positive business impact?\n",
        "Are there any insights that lead to negative growth? Justify with specific reason."
      ],
      "metadata": {
        "id": "rFu4xreNphqO"
      }
    },
    {
      "cell_type": "markdown",
      "source": [
        "~ ***Positive Business Impact:***\n",
        "\n",
        " * Knowing that most shipments are small helps optimize packaging and shipping processes for small orders, reducing costs.\n",
        "\n",
        " * The company can focus marketing efforts on frequent small buyers to increase sales volume.\n",
        "\n",
        " * Inventory management can be adjusted to prioritize fast-moving small quantity items.\n",
        "\n",
        "~ ***Potential Negative Impacts:***\n",
        "\n",
        " * Low number of bulk orders might limit revenue growth from large customers.\n",
        "\n",
        " * The business may face higher shipping costs per unit because small shipments are less efficient than bulk shipments."
      ],
      "metadata": {
        "id": "ey_0qi68phqO"
      }
    },
    {
      "cell_type": "markdown",
      "source": [
        "#### Chart - 7/Line Item Value Distribution:"
      ],
      "metadata": {
        "id": "YJ55k-q6phqO"
      }
    },
    {
      "cell_type": "code",
      "source": [
        "# Chart - 7 visualization code\n",
        "\n",
        "# FedEx theme colors (4 options)\n",
        "fedex_palette = ['#4d148c', '#ff6600', '#b8c9f2', '#ffa07a']\n",
        "\n",
        "# Create figure\n",
        "plt.figure(figsize=(12, 6))\n",
        "\n",
        "# Boxplot for Line Item Value\n",
        "sns.boxplot(x=FedEx_df['Line Item Value'], color=fedex_palette[0])\n",
        "\n",
        "# Set chart titles and labels\n",
        "plt.title('Distribution of Line Item Value', fontsize=16, fontweight='bold', color='black')\n",
        "plt.xlabel('Line Item Value (USD)', fontsize=14, color='black')\n",
        "plt.ylabel('Value Distribution', fontsize=14, color='black')\n",
        "\n",
        "# Set light greyish background\n",
        "plt.gca().set_facecolor('#f0f0f0')\n",
        "plt.grid(axis='x')\n",
        "\n",
        "# Adjust layout and showing the chart\n",
        "plt.tight_layout()\n",
        "plt.show()\n"
      ],
      "metadata": {
        "id": "B2aS4O1ophqO"
      },
      "execution_count": null,
      "outputs": []
    },
    {
      "cell_type": "markdown",
      "source": [
        "##### 1. Why did you pick the specific chart?"
      ],
      "metadata": {
        "id": "gCFgpxoyphqP"
      }
    },
    {
      "cell_type": "markdown",
      "source": [
        "~ ***Answer:***\n",
        " * I chose a boxplot because it clearly shows the spread, median, and outliers of the Line Item Value data. It helps quickly spot where most values fall and if there are any unusually high or low amounts in the dataset.\n",
        "\n",
        "\n",
        "\n",
        "\n",
        "\n",
        "\n",
        "\n",
        "\n"
      ],
      "metadata": {
        "id": "TVxDimi2phqP"
      }
    },
    {
      "cell_type": "markdown",
      "source": [
        "##### 2. What is/are the insight(s) found from the chart?"
      ],
      "metadata": {
        "id": "OVtJsKN_phqQ"
      }
    },
    {
      "cell_type": "markdown",
      "source": [
        "~ ***Insights:***\n",
        "\n",
        " * Most of the Line Item Values are clustered in the lower range.\n",
        "\n",
        " * There are a few high-value outliers pulling the average up.\n",
        "\n",
        " * The median value is much lower than the highest outliers, showing a skewed distribution."
      ],
      "metadata": {
        "id": "ngGi97qjphqQ"
      }
    },
    {
      "cell_type": "markdown",
      "source": [
        "##### 3. Will the gained insights help creating a positive business impact?\n",
        "Are there any insights that lead to negative growth? Justify with specific reason."
      ],
      "metadata": {
        "id": "lssrdh5qphqQ"
      }
    },
    {
      "cell_type": "markdown",
      "source": [
        "~ ***Positive Business Impacts:***\n",
        "\n",
        " * Helps identify typical order values, aiding in better pricing and inventory planning.\n",
        "\n",
        " * Highlights presence of high-value orders, which can be focused on for premium services.\n",
        "\n",
        " * Understanding value distribution helps optimize marketing and sales strategies for different customer segments.\n",
        "\n",
        "~ ***Potential Negative Impacts:***\n",
        "\n",
        " * Large outliers may indicate risk if few big orders dominate revenue, causing instability.\n",
        "\n",
        " * Skewed data suggests smaller orders are more common, which might limit overall profit margins if not managed well."
      ],
      "metadata": {
        "id": "tBpY5ekJphqQ"
      }
    },
    {
      "cell_type": "markdown",
      "source": [
        "#### Chart - 8/Yearly Delivery Distribution"
      ],
      "metadata": {
        "id": "U2RJ9gkRphqQ"
      }
    },
    {
      "cell_type": "code",
      "source": [
        "# Chart - 8 visualization code\n",
        "\n",
        "# Set FedEx theme palette\n",
        "fedex_palette = ['#4d148c', '#ff6600', '#b8c9f2', '#ffa07a']\n",
        "\n",
        "# # Create figure and Plot delivery counts by year\n",
        "plt.figure(figsize=(12, 6))\n",
        "sns.countplot(data=FedEx_df, x='Delivery Year', palette=fedex_palette)\n",
        "\n",
        "# Styling\n",
        "plt.title('Number of Deliveries by Year', fontsize=16, fontweight='bold', color='black')\n",
        "plt.xlabel('Delivery Year', fontsize=14, color='black')\n",
        "plt.ylabel('Number of Deliveries', fontsize=14, color='black')\n",
        "plt.xticks(rotation=30)\n",
        "\n",
        "# Adjust layout and showing the chart\n",
        "plt.tight_layout()\n",
        "plt.show()\n"
      ],
      "metadata": {
        "id": "GM7a4YP4phqQ"
      },
      "execution_count": null,
      "outputs": []
    },
    {
      "cell_type": "markdown",
      "source": [
        "##### 1. Why did you pick the specific chart?"
      ],
      "metadata": {
        "id": "1M8mcRywphqQ"
      }
    },
    {
      "cell_type": "markdown",
      "source": [
        "~ ***Answer:***\n",
        " *  I picked a bar chart because it’s the easiest way to show how many deliveries happened each year. It clearly compares yearly counts, making trends over time simple to spot."
      ],
      "metadata": {
        "id": "8agQvks0phqQ"
      }
    },
    {
      "cell_type": "markdown",
      "source": [
        "##### 2. What is/are the insight(s) found from the chart?"
      ],
      "metadata": {
        "id": "tgIPom80phqQ"
      }
    },
    {
      "cell_type": "markdown",
      "source": [
        "~ ***Insights:***\n",
        " * Steady growth in deliveries from 2006 to 2014, showing operational or market expansion.\n",
        "\n",
        " * 2014 marks the highest number of deliveries — likely due to business scaling, increased demand, or improved logistics.\n",
        "\n",
        " * Noticeable drop in 2015, suggesting either operational challenges, market changes, or possible data incompleteness for that year."
      ],
      "metadata": {
        "id": "Qp13pnNzphqQ"
      }
    },
    {
      "cell_type": "markdown",
      "source": [
        "##### 3. Will the gained insights help creating a positive business impact?\n",
        "Are there any insights that lead to negative growth? Justify with specific reason."
      ],
      "metadata": {
        "id": "JMzcOPDDphqR"
      }
    },
    {
      "cell_type": "markdown",
      "source": [
        "~ ***Positive Business Impacts:***\n",
        " * Identified Peak Growth Year (2014):\n",
        "  * The highest number of deliveries occurred in 2014, signaling operational efficiency and strong market demand during that year.\n",
        "\n",
        " * Consistent Growth Trend (2007–2013):\n",
        "  * The chart shows steady year-on-year growth, which reflects effective logistics management, increasing customer base, and healthy vendor partnerships.\n",
        "\n",
        "* Supports Strategic Resource Planning:\n",
        "  * Understanding high-volume years enables better forecasting for manpower, inventory, and warehouse capacity, reducing operational strain during peak times.\n",
        "\n",
        "~ ***Potential Negative Impacts:***"
      ],
      "metadata": {
        "id": "R4Ka1PC2phqR"
      }
    },
    {
      "cell_type": "markdown",
      "source": [
        "#### Chart - 9/Delivery Lead Time Distribution"
      ],
      "metadata": {
        "id": "x-EpHcCOp1ci"
      }
    },
    {
      "cell_type": "code",
      "source": [
        "# Chart - 9 visualization code\n",
        "\n",
        "# Calculate delivery lead time in days\n",
        "FedEx_df['Lead Time Days'] = (FedEx_df['Delivered to Client Date'] - FedEx_df['Scheduled Delivery Date']).dt.days\n",
        "\n",
        "# Create figure\n",
        "plt.figure(figsize=(10,6))\n",
        "\n",
        "# plot Histogram and Set chart titles and labels\n",
        "sns.histplot(FedEx_df['Lead Time Days'], bins=10, kde=True)\n",
        "plt.title('Delivery Lead Time Distribution (Histogram)')\n",
        "plt.xlabel('Lead Time (Days)')\n",
        "\n",
        "# Adjust layout and showing the chart\n",
        "plt.tight_layout()\n",
        "plt.show()"
      ],
      "metadata": {
        "id": "mAQTIvtqp1cj"
      },
      "execution_count": null,
      "outputs": []
    },
    {
      "cell_type": "markdown",
      "source": [
        "##### 1. Why did you pick the specific chart?"
      ],
      "metadata": {
        "id": "X_VqEhTip1ck"
      }
    },
    {
      "cell_type": "markdown",
      "source": [
        "~ ***Answer:***\n",
        " * I chose a histogram with a KDE curve because it shows how often different delivery lead times occur and makes it easy to spot patterns or unusual values like negative lead times. It helps in understanding delivery performance and finding any issues in the process."
      ],
      "metadata": {
        "id": "-vsMzt_np1ck"
      }
    },
    {
      "cell_type": "markdown",
      "source": [
        "##### 2. What is/are the insight(s) found from the chart?"
      ],
      "metadata": {
        "id": "8zGJKyg5p1ck"
      }
    },
    {
      "cell_type": "markdown",
      "source": [
        "~ ***Insights:***\n",
        "\n",
        "* High peak near zero:\n",
        " * Most deliveries have a lead time close to 0 days, meaning goods are often delivered either on the same day or very close to the order date.\n",
        "\n",
        "* Presence of negative lead times:\n",
        " * There is a noticeable number of records where lead time is negative, some even lower than -300 days, which suggests data entry errors, system bugs, or mismatched timestamps.\n",
        "\n",
        "* Distribution is not symmetric:\n",
        " * While the main concentration is around 0, there's a longer left tail, which may indicate systematic issues in certain transactions or reporting."
      ],
      "metadata": {
        "id": "ZYdMsrqVp1ck"
      }
    },
    {
      "cell_type": "markdown",
      "source": [
        "##### 3. Will the gained insights help creating a positive business impact?\n",
        "Are there any insights that lead to negative growth? Justify with specific reason."
      ],
      "metadata": {
        "id": "PVzmfK_Ep1ck"
      }
    },
    {
      "cell_type": "markdown",
      "source": [
        "~ ***Positive Business Impact:***\n",
        "* Better Data Quality\n",
        " * Finding and fixing negative lead times will help improve the accuracy of the data. This means reports and dashboards will be more reliable.\n",
        "\n",
        "* Good Delivery Performance\n",
        " * Most deliveries are happening close to 0 days, which shows that the delivery process is working well. This is a strength for the business.\n",
        "\n",
        "* Chance to Improve Processes\n",
        " * By looking at the unusual lead times (outliers), we can find areas to improve and make the delivery process more consistent.\n",
        "\n",
        "~ ***Potential Negative Impacts:***\n",
        "* Incorrect Data Can Cause Problems\n",
        " * Negative lead times may mean there are issues with how data is recorded. This can lead to wrong conclusions in reports.\n",
        "\n",
        "* Planning Issues\n",
        " * If lead time data is not correct, it can affect inventory and delivery planning. This might cause stockouts or delays, which can hurt sales."
      ],
      "metadata": {
        "id": "druuKYZpp1ck"
      }
    },
    {
      "cell_type": "markdown",
      "source": [
        "***Multivariate Analysis by Charts:***"
      ],
      "metadata": {
        "id": "UUO3UlmEJq4S"
      }
    },
    {
      "cell_type": "markdown",
      "source": [
        "#### Chart - 10/Freight Cost by Shipment Mode, Fulfill Via, and Country\n"
      ],
      "metadata": {
        "id": "-zrSP0eyfXQp"
      }
    },
    {
      "cell_type": "code",
      "source": [
        "# Chart - 10 visualization code\n",
        "# Define FedEx theme palette\n",
        "fedex_palette = ['#4d148c', '#ff6600', '#b8c9f2', '#ffa07a']\n",
        "\n",
        "# Set background style\n",
        "sns.set(style=\"whitegrid\")\n",
        "\n",
        "# Create figure and axis\n",
        "plt.figure(figsize=(18, 10))\n",
        "\n",
        "# Plot the boxplot\n",
        "sns.boxplot( x='Shipment Mode', y='Freight Cost (USD)', hue='Fulfill Via', data=FedEx_df , palette=fedex_palette , showfliers=False )\n",
        "\n",
        "# Chart titles and labels\n",
        "plt.title('Freight Cost by Shipment Mode and Fulfill Method', fontsize=18, fontweight='bold')\n",
        "plt.xlabel('Shipment Mode', fontsize=14)\n",
        "plt.ylabel('Freight Cost (USD)', fontsize=14)\n",
        "\n",
        "# Light grey background for better view\n",
        "plt.gca().set_facecolor('#f9f9f9')\n",
        "plt.grid(axis='y')\n",
        "\n",
        "# Adjust layout and showing the chart\n",
        "plt.tight_layout()\n",
        "plt.show()"
      ],
      "metadata": {
        "id": "tTjS7qq8fXQq"
      },
      "execution_count": null,
      "outputs": []
    },
    {
      "cell_type": "markdown",
      "source": [
        "##### 1. Why did you pick the specific chart?"
      ],
      "metadata": {
        "id": "cb9AK0NmfXQq"
      }
    },
    {
      "cell_type": "markdown",
      "source": [
        "~ ***Answer:***\n",
        " * I picked a boxplot because it’s great for showing the spread and median of freight costs across shipment modes and fulfill methods. It also helps spot any unusually high or low costs quickly.\n",
        "\n"
      ],
      "metadata": {
        "id": "fsA3rfcCfXQq"
      }
    },
    {
      "cell_type": "markdown",
      "source": [
        "##### 2. What is/are the insight(s) found from the chart?"
      ],
      "metadata": {
        "id": "xu7BLlYVfXQq"
      }
    },
    {
      "cell_type": "markdown",
      "source": [
        "~ ***Insights:***\n",
        " * FedEx Ground has the highest median freight cost among all shipment modes.\n",
        "\n",
        " * FedEx Economy shows the smallest cost variation, making it more consistent.\n",
        "\n",
        " * There are noticeable outliers in FedEx Ground and Express, indicating some unusually high or low shipment costs."
      ],
      "metadata": {
        "id": "yNzlymvbfXQr"
      }
    },
    {
      "cell_type": "markdown",
      "source": [
        "##### 3. Will the gained insights help creating a positive business impact?\n",
        "Are there any insights that lead to negative growth? Justify with specific reason."
      ],
      "metadata": {
        "id": "Yzef_nYtfXQr"
      }
    },
    {
      "cell_type": "markdown",
      "source": [
        "~ ***Positive Business Impact:***\n",
        " * Helps identify the most cost-effective shipment mode by comparing median freight costs.\n",
        "\n",
        " * Highlights which modes offer consistent pricing (like FedEx Economy), useful for budgeting and planning.\n",
        "\n",
        " * Allows targeted negotiations with fulfillment partners based on cost patterns and outliers.\n",
        "\n",
        "~ ***Potential Negative Impacts:***\n",
        " * High outliers in FedEx Ground and Express could indicate poor cost control on certain shipments.\n",
        "\n",
        "* Inconsistent costs in some modes may cause budgeting issues and affect profit margins."
      ],
      "metadata": {
        "id": "9ehCxRSKfXQr"
      }
    },
    {
      "cell_type": "markdown",
      "source": [
        "#### Chart - 11/Total Shipments Over Time"
      ],
      "metadata": {
        "id": "uJ2grVUnfYm8"
      }
    },
    {
      "cell_type": "code",
      "source": [
        "# Chart - 11 visualization code\n",
        "\n",
        "# Create a shipment date column by filling missing values\n",
        "FedEx_df['Shipment Date'] = FedEx_df['PQ First Sent to Client Date'].fillna(FedEx_df['Scheduled Delivery Date'])\n",
        "\n",
        "\n",
        "# Set FedEx theme colors\n",
        "fedex_palette = ['#4d148c', '#ff6600']\n",
        "\n",
        "# Resample data by month\n",
        "shipments_over_time = FedEx_df.resample('M', on='Shipment Date').size()\n",
        "\n",
        "# Create figure and axis\n",
        "fig, ax = plt.subplots(figsize=(10, 6))\n",
        "\n",
        "# Area chart using fill_between\n",
        "ax.fill_between( shipments_over_time.index , shipments_over_time.values , color = fedex_palette[1] , alpha = 0.7 , label ='Shipments')\n",
        "\n",
        "# Add a line over it for better visibility\n",
        "ax.plot( shipments_over_time.index , shipments_over_time.values , color = fedex_palette[0] , linewidth = 2 )\n",
        "\n",
        "# Chart titles and labels\n",
        "ax.set_title('Total Shipments Over Time', fontsize = 18, fontweight = 'bold')\n",
        "ax.set_xlabel('Year', fontsize = 14)\n",
        "ax.set_ylabel('Number of Shipments', fontsize = 14)\n",
        "\n",
        "# Set background color\n",
        "ax.set_facecolor('#f5f5f5')\n",
        "fig.patch.set_facecolor('#ffffff')\n",
        "\n",
        "# Grid and legend\n",
        "ax.grid(axis='y', linestyle='--', alpha=0.5)\n",
        "ax.legend()\n",
        "\n",
        "# Adjust layout and showing the chart\n",
        "plt.tight_layout()\n",
        "plt.show()\n"
      ],
      "metadata": {
        "id": "ufcE1gFLfYnA"
      },
      "execution_count": null,
      "outputs": []
    },
    {
      "cell_type": "markdown",
      "source": [
        "##### 1. Why did you pick the specific chart?"
      ],
      "metadata": {
        "id": "2PGv16V9fYnB"
      }
    },
    {
      "cell_type": "markdown",
      "source": [
        "~ ***Answer:***\n",
        " * I picked an area chart because it’s a simple and clear way to show how shipment volumes change over time. It helps to easily spot growth patterns, seasonal trends, and drops. The fill color makes it visually appealing and quickly highlights the highs and lows."
      ],
      "metadata": {
        "id": "4aZoEQR_fYnC"
      }
    },
    {
      "cell_type": "markdown",
      "source": [
        "##### 2. What is/are the insight(s) found from the chart?"
      ],
      "metadata": {
        "id": "5h2-qXYMfYnD"
      }
    },
    {
      "cell_type": "markdown",
      "source": [
        "~ ***Insights:***\n",
        " * There was a steady rise in shipment counts from 2006 to around 2009.\n",
        "\n",
        " * Peaks and drops appear after 2010, showing changing shipment demand over time.\n",
        "\n",
        " * The highest shipment activity was around 2013-2014, followed by a decline after 2015."
      ],
      "metadata": {
        "id": "K3hGYN4efYnE"
      }
    },
    {
      "cell_type": "markdown",
      "source": [
        "##### 3. Will the gained insights help creating a positive business impact?\n",
        "Are there any insights that lead to negative growth? Justify with specific reason."
      ],
      "metadata": {
        "id": "ZQtACNCPfYnF"
      }
    },
    {
      "cell_type": "markdown",
      "source": [
        "~ ***Positive Business Impacts:***\n",
        "\n",
        " * Helps identify peak business years like 2013-2014 to plan future strategies.\n",
        "\n",
        " * Reveals seasonal or market patterns to optimize shipping resources.\n",
        "\n",
        " * Assists in understanding long-term trends for better forecasting and decision making.\n",
        "\n",
        "~ ***Potential Negative Impacts:***\n",
        "\n",
        "* The drop after 2015 indicates a possible loss in market demand or operational issues.\n",
        "\n",
        "* Inconsistent trends post-2010 could suggest unstable customer demand or external market challenges."
      ],
      "metadata": {
        "id": "rnirrzRrfYnG"
      }
    },
    {
      "cell_type": "markdown",
      "source": [
        "#### Chart - 12/Average Weight by Shipment Mode"
      ],
      "metadata": {
        "id": "n3dbpmDWp1ck"
      }
    },
    {
      "cell_type": "code",
      "source": [
        "# Chart - 12 visualization code\n",
        "# Import libraries\n",
        "import pandas as pd\n",
        "import seaborn as sns\n",
        "import matplotlib.pyplot as plt\n",
        "\n",
        "# Set background style\n",
        "sns.set(style=\"whitegrid\")\n",
        "\n",
        "# Define FedEx color palette (4 colors)\n",
        "fedex_palette = ['#4d148c', '#ff6600', '#b8c9f2', '#ffa07a']\n",
        "\n",
        "# Create figure and axis\n",
        "plt.figure(figsize=(12, 6))\n",
        "\n",
        "# Barplot: Average Weight by Shipment Mode\n",
        "sns.barplot(\n",
        "    data=FedEx_df,\n",
        "    x='Shipment Mode',\n",
        "    y='Weight (Kilograms)',\n",
        "    estimator='mean',\n",
        "    palette=fedex_palette\n",
        ")\n",
        "\n",
        "# Add chart title and labels\n",
        "plt.title('Average Weight by Shipment Mode', fontsize=16, fontweight='bold')\n",
        "plt.xlabel('Shipment Mode', fontsize=14)\n",
        "plt.ylabel('Average Weight (KG)', fontsize=14)\n",
        "\n",
        "# Show grid lines on y-axis\n",
        "plt.grid(axis='y', linestyle='--', alpha=0.7)\n",
        "\n",
        "# Display the chart\n",
        "plt.tight_layout()\n",
        "plt.show()\n"
      ],
      "metadata": {
        "id": "bwevp1tKp1ck"
      },
      "execution_count": null,
      "outputs": []
    },
    {
      "cell_type": "markdown",
      "source": [
        "##### 1. Why did you pick the specific chart?"
      ],
      "metadata": {
        "id": "ylSl6qgtp1ck"
      }
    },
    {
      "cell_type": "markdown",
      "source": [
        "~***Answer:***\n",
        "\n",
        " * I picked a bar chart because it’s an easy way to compare the average shipment weights across different shipment modes. It clearly shows which mode handles heavier or lighter goods with simple bars."
      ],
      "metadata": {
        "id": "m2xqNkiQp1ck"
      }
    },
    {
      "cell_type": "markdown",
      "source": [
        "##### 2. What is/are the insight(s) found from the chart?"
      ],
      "metadata": {
        "id": "ZWILFDl5p1ck"
      }
    },
    {
      "cell_type": "markdown",
      "source": [
        "~ ***insight(s):***\n",
        " * Air transport handles the lightest shipments, averaging around 1000–1500 kg.\n",
        "\n",
        " * Truck shipments are much heavier, averaging around 6500 kg.\n",
        "\n",
        " * Ocean and rail transport have the highest average weights, over 6800 kg and 7000 kg."
      ],
      "metadata": {
        "id": "x-lUsV2mp1ck"
      }
    },
    {
      "cell_type": "markdown",
      "source": [
        "##### 3. Will the gained insights help creating a positive business impact?\n",
        "Are there any insights that lead to negative growth? Justify with specific reason."
      ],
      "metadata": {
        "id": "M7G43BXep1ck"
      }
    },
    {
      "cell_type": "markdown",
      "source": [
        "~ ***Positive Impact Points:***\n",
        "\n",
        " * Helps the business optimize shipment mode choices based on weight.\n",
        "\n",
        " * Supports better pricing and planning strategies for bulk vs light goods.\n",
        "\n",
        " * Can improve resource allocation by predicting average load sizes per transport type.\n",
        "\n",
        "~ ***Negative Growth Points:***\n",
        "\n",
        " * The very high weight averages in ocean and rail may indicate underutilized air shipment capacity.\n",
        "\n",
        " * Heavy reliance on truck and sea for bulk shipments might increase delivery time and affect customer satisfaction for urgent orders"
      ],
      "metadata": {
        "id": "5wwDJXsLp1cl"
      }
    },
    {
      "cell_type": "markdown",
      "source": [
        "#### Chart - 13/Freight Cost(Top 10 Countries)"
      ],
      "metadata": {
        "id": "Ag9LCva-p1cl"
      }
    },
    {
      "cell_type": "code",
      "source": [
        "# Chart - 13 visualization code\n",
        "import matplotlib.ticker as mtick\n",
        "\n",
        "# Set seaborn style\n",
        "sns.set(style=\"whitegrid\")\n",
        "\n",
        "# FedEx color palette (purple, orange, black, white)\n",
        "fedex_palette = ['#4d148c', '#ff6600', '#000000', '#ffffff']\n",
        "\n",
        "# Clean Freight Cost column\n",
        "FedEx_df['Freight Cost (USD)'] = FedEx_df['Freight Cost (USD)'].fillna(0)\n",
        "FedEx_df['Freight Cost (USD)'] = np.where(np.isfinite(FedEx_df['Freight Cost (USD)']), FedEx_df['Freight Cost (USD)'], 0)\n",
        "FedEx_df['Freight Cost (USD)'] = FedEx_df['Freight Cost (USD)'].astype(int)\n",
        "\n",
        "# Calculate total freight cost by country and get top 10\n",
        "top_10_countries = FedEx_df.groupby('Country')['Freight Cost (USD)'].sum().nlargest(10).reset_index()\n",
        "\n",
        "# Create figure\n",
        "plt.figure(figsize=(10,6))\n",
        "ax = sns.barplot(data=top_10_countries, x='Country', y='Freight Cost (USD)', palette=fedex_palette)\n",
        "\n",
        "# Set chart titles and labels\n",
        "plt.title('Top 10 Countries by Freight Cost', fontsize=16, fontweight='bold')\n",
        "plt.xlabel('Country', fontsize=14)\n",
        "plt.ylabel('Total Freight Cost (USD)', fontsize=14)\n",
        "\n",
        "# Format y-axis values\n",
        "ax.yaxis.set_major_formatter(mtick.StrMethodFormatter('{x:,.0f}'))\n",
        "\n",
        "# Set light grey background\n",
        "plt.gca().set_facecolor('#f0f0f0')\n",
        "\n",
        "\n",
        "# Show chart\n",
        "plt.tight_layout()\n",
        "plt.show()\n"
      ],
      "metadata": {
        "id": "EUfxeq9-p1cl"
      },
      "execution_count": null,
      "outputs": []
    },
    {
      "cell_type": "markdown",
      "source": [
        "##### 1. Why did you pick the specific chart?"
      ],
      "metadata": {
        "id": "E6MkPsBcp1cl"
      }
    },
    {
      "cell_type": "markdown",
      "source": [
        "~ ***Answer:***\n",
        " * I picked a bar chart because it’s simple and clearly compares the total freight costs between countries. It helps quickly see which countries pay the most. As a new data analyst, I wanted an easy and clean way to show this ranking"
      ],
      "metadata": {
        "id": "V22bRsFWp1cl"
      }
    },
    {
      "cell_type": "markdown",
      "source": [
        "##### 2. What is/are the insight(s) found from the chart?"
      ],
      "metadata": {
        "id": "2cELzS2fp1cl"
      }
    },
    {
      "cell_type": "markdown",
      "source": [
        "***insight(s):***\n",
        " * Nigeria has the highest total freight cost, much higher than other countries.\n",
        "\n",
        " * China and Rwanda follow next, but there’s a noticeable gap between them and Nigeria.\n",
        "\n",
        " * Some countries contribute very little to freight cost compared to top ones, showing an uneven distribution."
      ],
      "metadata": {
        "id": "ozQPc2_Ip1cl"
      }
    },
    {
      "cell_type": "markdown",
      "source": [
        "##### 3. Will the gained insights help creating a positive business impact?\n",
        "Are there any insights that lead to negative growth? Justify with specific reason."
      ],
      "metadata": {
        "id": "3MPXvC8up1cl"
      }
    },
    {
      "cell_type": "markdown",
      "source": [
        "~ ***Positive Impact:***\n",
        "\n",
        " * Helps FedEx identify high-revenue countries for freight services.\n",
        "\n",
        " * Can focus marketing or premium services in these top-paying regions.\n",
        "\n",
        " * Highlights areas where improving customer relationships can increase profits further.\n",
        "\n",
        "~ ***Negative Impact:***\n",
        "\n",
        " * Heavy dependence on a few countries (like Nigeria) could be risky if business drops there.\n",
        "\n",
        " * Countries with lower freight costs might signal missed market opportunities or weak business presence."
      ],
      "metadata": {
        "id": "GL8l1tdLp1cl"
      }
    },
    {
      "cell_type": "markdown",
      "source": [
        "#### Chart - 14/Line Item Quantity vs Freight Cost"
      ],
      "metadata": {
        "id": "pdvH0I66fdIu"
      }
    },
    {
      "cell_type": "code",
      "source": [
        "fedex_colors = ['#4D148C', '#FF6600', 'black', 'white']\n",
        "plt.style.use('seaborn-v0_8-darkgrid')\n",
        "\n",
        "plt.figure(figsize=(10, 6))\n",
        "sns.scatterplot(data=FedEx_df, x='Line Item Quantity', y='Freight Cost (USD)', color=fedex_colors[0])\n",
        "sns.regplot(data=FedEx_df, x='Line Item Quantity', y='Freight Cost (USD)', scatter=False, color=fedex_colors[1])\n",
        "plt.title('Quantity vs Freight Cost', fontsize=18)\n",
        "plt.ylabel('Freight Cost (USD)')\n",
        "plt.xlabel('Line Item Quantity')\n",
        "plt.grid(True, axis='y')\n",
        "plt.tight_layout()\n",
        "plt.show()"
      ],
      "metadata": {
        "id": "yJX1boyHfdIv"
      },
      "execution_count": null,
      "outputs": []
    },
    {
      "cell_type": "markdown",
      "source": [
        "##### 1. Why did you pick the specific chart?"
      ],
      "metadata": {
        "id": "KcOCAqu1fdIw"
      }
    },
    {
      "cell_type": "markdown",
      "source": [
        "~***Answer:***\n",
        " * I selected this scatter plot with a regression line because it clearly visualizes the relationship between the number of line items in a shipment and its freight cost. This helps identify whether larger quantities increase or stabilize freight costs. It’s an essential view for understanding cost behavior in bulk logistics."
      ],
      "metadata": {
        "id": "2NpoHT8bfdIx"
      }
    },
    {
      "cell_type": "markdown",
      "source": [
        "##### 2. What is/are the insight(s) found from the chart?"
      ],
      "metadata": {
        "id": "8UQZVsRafdIy"
      }
    },
    {
      "cell_type": "markdown",
      "source": [
        "insight(s):\n",
        "* There’s a positive trend between quantity and freight cost — as the number of line items increases, the freight cost tends to rise.\n",
        "\n",
        "* However, there are outliers where high quantities don’t result in proportionally high freight costs, indicating possible volume discounts or fixed-rate agreements.\n",
        "\n",
        "* The regression line suggests a moderate upward relationship, but the scattered points show variance in pricing, hinting at different pricing rules based on other hidden factors like destination or shipment mode."
      ],
      "metadata": {
        "id": "dSXn4F9gfdIy"
      }
    },
    {
      "cell_type": "markdown",
      "source": [
        "##### 3. Will the gained insights help creating a positive business impact?\n",
        "Are there any insights that lead to negative growth? Justify with specific reason."
      ],
      "metadata": {
        "id": "Xr7BsRKYfdIz"
      }
    },
    {
      "cell_type": "markdown",
      "source": [
        "~ ***Positive Business Impacts:***\n",
        "\n",
        "* Helps logistics managers identify opportunities for bulk shipment discounts or bundled pricing strategies.\n",
        "\n",
        "* Allows finance teams to forecast freight expenses more accurately based on order size trends.\n",
        "\n",
        "* Supports decision-making to encourage customers toward higher volume orders where marginal freight cost increases are minimal.\n",
        "\n",
        "~ ***Potential Negative Impacts:***\n",
        "\n",
        "* The presence of high-cost outliers at lower quantities suggests possible inefficiencies or non-standard pricing which could hurt profitability.\n",
        "\n",
        "* If cost increases sharply beyond a certain quantity, it may discourage large orders from price-sensitive customers, potentially impacting sales volume."
      ],
      "metadata": {
        "id": "95jmBS8kfdI0"
      }
    },
    {
      "cell_type": "markdown",
      "source": [
        "#### Chart - 15/Delivery Delays by Shipment Mode"
      ],
      "metadata": {
        "id": "48S0zQh1feLN"
      }
    },
    {
      "cell_type": "code",
      "source": [
        "plt.figure(figsize=(14,7))\n",
        "sns.violinplot(data=FedEx_df, x='Shipment Mode', y='Lead Time Days', palette=fedex_colors)\n",
        "plt.title('Delivery Delays by Shipment Mode', fontsize=18)\n",
        "plt.ylabel('Delay (Days)')\n",
        "plt.xlabel('Shipment Mode')\n",
        "plt.grid(True, axis='y')\n",
        "plt.tight_layout()\n",
        "plt.show()\n"
      ],
      "metadata": {
        "id": "MhkyiC_dfeLQ"
      },
      "execution_count": null,
      "outputs": []
    },
    {
      "cell_type": "markdown",
      "source": [
        "##### 1. Why did you pick the specific chart?"
      ],
      "metadata": {
        "id": "OnvutA8QfeLS"
      }
    },
    {
      "cell_type": "markdown",
      "source": [
        "~ ***Answer:***\n",
        "* I chose the violin plot because it effectively shows both the distribution and density of delivery delays across different shipment modes. It combines the advantages of a boxplot and a KDE, making it easy to compare spread and outliers. This is helpful for identifying which shipment modes face consistent or variable delays."
      ],
      "metadata": {
        "id": "cQahVOUkfeLU"
      }
    },
    {
      "cell_type": "markdown",
      "source": [
        "##### 2. What is/are the insight(s) found from the chart?"
      ],
      "metadata": {
        "id": "EwvujPuCfeLY"
      }
    },
    {
      "cell_type": "markdown",
      "source": [
        "~ ***insight(s):***\n",
        "* Standard Class shipments show a wider spread of delays compared to other modes, indicating inconsistent delivery times.\n",
        "\n",
        "* Same Day and First Class deliveries mostly have lower and tightly packed delays, reflecting reliable and predictable service.\n",
        "\n",
        "* A few extreme outliers in Standard and Second Class shipments suggest operational inefficiencies in those modes that might need attention."
      ],
      "metadata": {
        "id": "bv8vy8OLfeLb"
      }
    },
    {
      "cell_type": "markdown",
      "source": [
        "##### 3. Will the gained insights help creating a positive business impact?\n",
        "Are there any insights that lead to negative growth? Justify with specific reason."
      ],
      "metadata": {
        "id": "EnSxeEYWfeLd"
      }
    },
    {
      "cell_type": "markdown",
      "source": [
        "~***Positive Business Impacts:***\n",
        "\n",
        "* Helps logistics and operations teams focus on improving Standard and Second Class shipment processes where delays are inconsistent.\n",
        "\n",
        "* Encourages promotion of Same Day and First Class options for high-value, time-sensitive shipments due to their reliability.\n",
        "\n",
        "* Supports customer communication improvements by setting accurate delivery expectations based on shipment mode trends.\n",
        "\n",
        "~ ***Potential Negative Impacts:***\n",
        "\n",
        "* Highlighting inconsistent delays in Standard and Second Class could harm customer confidence if not addressed quickly.\n",
        "\n",
        "* If improvement costs for reducing delays in lower-tier services are too high, it might reduce profit margins in price-sensitive segments."
      ],
      "metadata": {
        "id": "CZp4HmYMfeLf"
      }
    },
    {
      "cell_type": "markdown",
      "source": [
        "#### Chart - 16/ Freight Cost vs Weight by Shipment Mode & Top 10 Countries"
      ],
      "metadata": {
        "id": "nvZ9HyRIfewF"
      }
    },
    {
      "cell_type": "code",
      "source": [
        "# Filter top 10 countries by shipment count\n",
        "top_10_countries = FedEx_df['Country'].value_counts().nlargest(10).index\n",
        "top_10_data = FedEx_df[FedEx_df['Country'].isin(top_10_countries)]\n",
        "\n",
        "# Scatterplot: Freight Cost vs Weight by Shipment Mode and Country\n",
        "plt.figure(figsize=(16, 9))\n",
        "scatter = sns.scatterplot(\n",
        "    data=top_10_data,\n",
        "    x='Weight (Kilograms)',\n",
        "    y='Freight Cost (USD)',\n",
        "    hue='Country',\n",
        "    size='Weight (Kilograms)',\n",
        "    style='Shipment Mode',\n",
        "    sizes=(200, 1000),\n",
        "    palette=fedex_colors\n",
        ")\n",
        "\n",
        "# Set titles and labels\n",
        "plt.title('Freight Cost vs Weight by Shipment Mode & Top 10 Countries', fontsize=18)\n",
        "plt.xlabel('Weight (Kilograms)')\n",
        "plt.ylabel('Freight Cost (USD)')\n",
        "\n",
        "# Add grid and tight layout\n",
        "plt.grid(True)\n",
        "plt.tight_layout()\n",
        "plt.show()\n"
      ],
      "metadata": {
        "id": "-R_fZAAnfewG"
      },
      "execution_count": null,
      "outputs": []
    },
    {
      "cell_type": "markdown",
      "source": [
        "##### 1. Why did you pick the specific chart?"
      ],
      "metadata": {
        "id": "93JFaerhfewG"
      }
    },
    {
      "cell_type": "markdown",
      "source": [
        "***Answer:***\n",
        "* I selected this scatterplot because it visually displays the relationship between shipment weight and freight cost while also comparing shipment modes and country-wise distribution. It’s effective for spotting trends, clusters, and outliers across multiple categories at once"
      ],
      "metadata": {
        "id": "dX_tw8jzfewG"
      }
    },
    {
      "cell_type": "markdown",
      "source": [
        "##### 2. What is/are the insight(s) found from the chart?"
      ],
      "metadata": {
        "id": "Mfd6Ni-1fewH"
      }
    },
    {
      "cell_type": "markdown",
      "source": [
        "~ ***insight(s):***\n",
        "* Higher weights generally lead to higher freight costs, but the rate of increase varies between countries and shipment modes.\n",
        "\n",
        "* Some countries handle large shipments at relatively lower costs, indicating more cost-efficient logistics operations in those regions.\n",
        "\n",
        "* Shipment mode impacts pricing significantly, with express or premium services commanding higher rates for the same weight category.\n",
        "\n"
      ],
      "metadata": {
        "id": "PWzolNFvfewH"
      }
    },
    {
      "cell_type": "markdown",
      "source": [
        "##### 3. Will the gained insights help creating a positive business impact?\n",
        "Are there any insights that lead to negative growth? Justify with specific reason."
      ],
      "metadata": {
        "id": "xLHF3PTofewI"
      }
    },
    {
      "cell_type": "markdown",
      "source": [
        "~ ***Positive Business Impacts:***\n",
        "\n",
        "* Enables targeted pricing strategy adjustments for high-weight shipments in price-sensitive countries to stay competitive.\n",
        "\n",
        "* Identifies countries with efficient cost-to-weight ratios, offering benchmarks for improving operations in other regions.\n",
        "\n",
        "* Supports strategic recommendations for shipment mode optimization based on country-specific cost patterns.\n",
        "\n",
        "~ ***Potential Negative Impacts:***\n",
        "\n",
        "* Revealing high freight costs for certain countries and modes might discourage customers or partners in those markets.\n",
        "\n",
        "* Insights may expose operational inefficiencies or pricing gaps in select regions, leading to short-term reputational or margin risks if not addressed swiftly."
      ],
      "metadata": {
        "id": "1OCUnAzdfewI"
      }
    },
    {
      "cell_type": "markdown",
      "source": [
        "#### Chart - 17/Freight Cost vs Lead Time Days by Shipment Mode"
      ],
      "metadata": {
        "id": "mggPFj-fffNP"
      }
    },
    {
      "cell_type": "code",
      "source": [
        "# Chart - 13 visualization code\n",
        "# Scatterplot: Lead Time Days vs Freight Cost (USD)\n",
        "plt.figure(figsize=(16, 9))\n",
        "sns.scatterplot(\n",
        "    data=FedEx_df,\n",
        "    x='Lead Time Days',\n",
        "    y='Freight Cost (USD)',\n",
        "    hue='Shipment Mode',\n",
        "    palette=fedex_colors,\n",
        "    alpha=0.7\n",
        ")\n",
        "\n",
        "# Titles and labels\n",
        "plt.title('Freight Cost vs Lead Time Days by Shipment Mode', fontsize=18)\n",
        "plt.xlabel('Lead Time (Days)')\n",
        "plt.ylabel('Freight Cost (USD)')\n",
        "\n",
        "# Add grid and legend\n",
        "plt.grid(True)\n",
        "plt.legend(title='Shipment Mode', bbox_to_anchor=(1.05, 1), loc='upper left')\n",
        "plt.tight_layout()\n",
        "plt.show()\n"
      ],
      "metadata": {
        "id": "kj1R4oHVffNQ"
      },
      "execution_count": null,
      "outputs": []
    },
    {
      "cell_type": "markdown",
      "source": [
        "##### 1. Why did you pick the specific chart?"
      ],
      "metadata": {
        "id": "YGCh3h3ZffNQ"
      }
    },
    {
      "cell_type": "markdown",
      "source": [
        "~ ***Answer:***\n",
        "* I chose this scatterplot because it effectively shows the relationship between lead time and freight cost while comparing different shipment modes. It helps identify how quickly and at what cost shipments are delivered, which is key for logistics decision-making."
      ],
      "metadata": {
        "id": "tfjXhIJpffNQ"
      }
    },
    {
      "cell_type": "markdown",
      "source": [
        "##### 2. What is/are the insight(s) found from the chart?"
      ],
      "metadata": {
        "id": "ALL5Qf41ffNQ"
      }
    },
    {
      "cell_type": "markdown",
      "source": [
        "~ ***Insights:***\n",
        "\n",
        "* Shorter lead times generally result in higher freight costs, especially for express or air shipment modes.\n",
        "\n",
        "* Standard or regular shipment modes have longer lead times with more balanced freight costs, suggesting a cost-saving opportunity.\n",
        "\n",
        "* A few outliers show high costs even with longer lead times, which might indicate inefficiencies or special handling shipments."
      ],
      "metadata": {
        "id": "wmUJaASlffNR"
      }
    },
    {
      "cell_type": "markdown",
      "source": [
        "##### 3. Will the gained insights help creating a positive business impact?\n",
        "Are there any insights that lead to negative growth? Justify with specific reason."
      ],
      "metadata": {
        "id": "l_9DvE_jffNR"
      }
    },
    {
      "cell_type": "markdown",
      "source": [
        "~ ***Positive Business Impacts:***\n",
        "\n",
        "* Helps the logistics team balance cost vs delivery speed based on customer preferences and shipment value.\n",
        "\n",
        "* Identifies opportunities to optimize shipment modes in certain ranges of lead times to reduce unnecessary expenses.\n",
        "\n",
        "* Supports data-driven client pricing proposals based on preferred delivery timelines and cost implications.\n",
        "\n",
        "~ ***Potential Negative Impacts:***\n",
        "\n",
        "* Revealing a pattern of high freight costs at long lead times can point to operational inefficiencies, harming customer trust.\n",
        "\n",
        "* The insight might uncover pricing inconsistencies across similar lead times, creating dissatisfaction among clients if not corrected."
      ],
      "metadata": {
        "id": "cwJSWWDQffNR"
      }
    },
    {
      "cell_type": "markdown",
      "source": [
        "#### Chart - 18/Top 10 Countries by Total Shipment Weight"
      ],
      "metadata": {
        "id": "1FEYHdgPgMKu"
      }
    },
    {
      "cell_type": "code",
      "source": [
        "# Chart - 13 visualization code\n",
        "fedex_colors = ['#4D148C', '#FF6600', 'black', 'white']\n",
        "plt.style.use('seaborn-v0_8-darkgrid')\n",
        "\n",
        "top_weight = FedEx_df.groupby('Country')['Weight (Kilograms)'].sum().nlargest(10).reset_index()\n",
        "plt.figure(figsize=(14,7))\n",
        "sns.barplot(data=top_weight, x='Country', y='Weight (Kilograms)', palette=fedex_colors)\n",
        "plt.title('Top 10 Countries by Total Shipment Weight', fontsize=18)\n",
        "plt.ylabel('Total Weight (KG)')\n",
        "plt.xlabel('Country')\n",
        "plt.grid(True, axis='y')\n",
        "plt.tight_layout()\n",
        "plt.show()"
      ],
      "metadata": {
        "id": "M1_YtfKfgMKu"
      },
      "execution_count": null,
      "outputs": []
    },
    {
      "cell_type": "markdown",
      "source": [
        "##### 1. Why did you pick the specific chart?"
      ],
      "metadata": {
        "id": "EjvLdRa_gMKu"
      }
    },
    {
      "cell_type": "markdown",
      "source": [
        "~ ***Answer:***\n",
        "* I selected this barplot because it’s one of the clearest ways to compare total shipment weights across countries. It quickly highlights the top-performing countries in terms of shipment volume, which is essential for identifying market focus areas."
      ],
      "metadata": {
        "id": "VQLcFkNNgMKv"
      }
    },
    {
      "cell_type": "markdown",
      "source": [
        "##### 2. What is/are the insight(s) found from the chart?"
      ],
      "metadata": {
        "id": "nkjo_3WcgMKv"
      }
    },
    {
      "cell_type": "markdown",
      "source": [
        "~ ***Insights:***\n",
        "\n",
        "* A few countries contribute a significantly higher total shipment weight than others, indicating core markets.\n",
        "\n",
        "* There’s a noticeable gap between the top 3 countries and the rest, suggesting strong regional dependencies.\n",
        "\n",
        "* Lower shipment volumes in some top 10 countries could mean potential for market growth or need for review."
      ],
      "metadata": {
        "id": "wrO7wZz_gMKv"
      }
    },
    {
      "cell_type": "markdown",
      "source": [
        "##### 3. Will the gained insights help creating a positive business impact?\n",
        "Are there any insights that lead to negative growth? Justify with specific reason."
      ],
      "metadata": {
        "id": "laLF7d_egMKv"
      }
    },
    {
      "cell_type": "markdown",
      "source": [
        "~ ***Positive Business Impacts:***\n",
        "\n",
        "* Helps FedEx focus on high-volume countries for service improvements and loyalty programs.\n",
        "\n",
        "* Enables better resource allocation and route optimization in high-weight markets.\n",
        "\n",
        "* Can identify potential growth markets among lower-weight countries within the top 10 list.\n",
        "\n",
        "~ ***Potential Negative Impacts:***\n",
        "\n",
        "* Heavy dependence on a few countries increases business risk if demand drops in those markets.\n",
        "\n",
        "* Lower shipment weight in some top 10 countries might indicate stagnation or competitive loss, which could hurt future growth if unaddressed.\n",
        "\n"
      ],
      "metadata": {
        "id": "oH5_aYfggMKw"
      }
    },
    {
      "cell_type": "markdown",
      "source": [
        "#### Chart - 19 - Correlation Heatmap"
      ],
      "metadata": {
        "id": "NC_X3p0fY2L0"
      }
    },
    {
      "cell_type": "code",
      "source": [
        "# Correlation Heatmap visualization code\n",
        "# 📦 Import Required Libraries\n",
        "import pandas as pd\n",
        "import numpy as np\n",
        "import matplotlib.pyplot as plt\n",
        "import seaborn as sns\n",
        "import matplotlib.colors as mcolors\n",
        "\n",
        "# 📊 FedEx Theme Colors\n",
        "fedex_colors = ['#4d148c', '#ff6600']\n",
        "\n",
        "# 📌 Example: list your numeric columns here\n",
        "numeric_columns = ['Line Item Quantity', 'Line Item Value', 'Weight (Kilograms)',\n",
        "                   'Freight Cost (USD)', 'Line Item Insurance (USD)', 'Lead Time Days']\n",
        "\n",
        "# 📌 Create a Custom Colormap with FedEx Purple and Orange\n",
        "custom_cmap = mcolors.LinearSegmentedColormap.from_list('custom_cmap', fedex_colors)\n",
        "\n",
        "# 📌 Calculate Correlation Matrix\n",
        "correlation_matrix = FedEx_df[numeric_columns].corr()\n",
        "\n",
        "# 📊 Plot the Correlation Heatmap\n",
        "plt.figure(figsize=(12,8))\n",
        "sns.heatmap(\n",
        "    correlation_matrix,             # data\n",
        "    annot=True,                     # show correlation values\n",
        "    cmap=custom_cmap,               # apply custom FedEx color map\n",
        "    fmt='.2f',                      # format the numbers\n",
        "    linewidths=0.5                  # line spacing in cells\n",
        ")\n",
        "\n",
        "# 📌 Add Titles and Labels\n",
        "plt.title('Correlation Heatmap of Numeric Variables', fontsize=20)\n",
        "plt.xlabel('Variables', fontsize=14)\n",
        "plt.ylabel('Variables', fontsize=14)\n",
        "plt.xticks(rotation=45, ha='right')\n",
        "# 📌 Optional: Add Gridlines\n",
        "plt.grid(False)\n",
        "\n",
        "# 📌 Adjust Layout\n",
        "plt.tight_layout()\n",
        "\n",
        "# 📌 Show the Plot\n",
        "plt.show()\n"
      ],
      "metadata": {
        "id": "xyC9zolEZNRQ"
      },
      "execution_count": null,
      "outputs": []
    },
    {
      "cell_type": "markdown",
      "source": [
        "##### 1. Why did you pick the specific chart?"
      ],
      "metadata": {
        "id": "UV0SzAkaZNRQ"
      }
    },
    {
      "cell_type": "markdown",
      "source": [
        "~ ***Answer:***\n",
        "* I chose a correlation heatmap because it visually shows the strength of relationships between numeric variables, making it easier to identify patterns, dependencies, and potential areas for operational improvement in one glance.\n"
      ],
      "metadata": {
        "id": "DVPuT8LYZNRQ"
      }
    },
    {
      "cell_type": "markdown",
      "source": [
        "##### 2. What is/are the insight(s) found from the chart?"
      ],
      "metadata": {
        "id": "YPEH6qLeZNRQ"
      }
    },
    {
      "cell_type": "markdown",
      "source": [
        "~ ***Insights:***\n",
        "\n",
        "* There’s a strong positive correlation between Freight Cost and Weight, indicating shipping heavier items typically costs more.\n",
        "\n",
        "* Line Item Value and Freight Cost show a mild positive relationship, suggesting higher-value items may be associated with higher shipping charges.\n",
        "\n",
        "* Lead Time Days has weak correlations with other variables, implying delays aren’t directly driven by quantity, weight, or value."
      ],
      "metadata": {
        "id": "bfSqtnDqZNRR"
      }
    },
    {
      "cell_type": "markdown",
      "source": [
        "#### Chart - 20 - Pair Plot"
      ],
      "metadata": {
        "id": "q29F0dvdveiT"
      }
    },
    {
      "cell_type": "code",
      "source": [
        "import seaborn as sns\n",
        "import matplotlib.pyplot as plt\n",
        "\n",
        "# Select numeric columns and 'Shipment Mode'\n",
        "numeric_columns = ['Line Item Value', 'Weight (Kilograms)', 'Freight Cost (USD)',\n",
        "                   'Line Item Insurance (USD)', 'Line Item Quantity']\n",
        "\n",
        "# Prepare dataframe by dropping rows with missing values\n",
        "df_pairplot = FedEx_df[numeric_columns + ['Shipment Mode']].dropna()\n",
        "\n",
        "# Get unique shipment modes dynamically\n",
        "shipment_modes = df_pairplot['Shipment Mode'].unique()\n",
        "\n",
        "# FedEx-inspired color palette (purple and orange tones)\n",
        "fedex_colors = ['#4B2E83', '#FF6600', '#7D5BA6', '#FFA366']  # Deep purple, orange, light purple, light orange\n",
        "\n",
        "# If more shipment modes than colors, repeat the colors\n",
        "palette_colors = (fedex_colors * ((len(shipment_modes) // len(fedex_colors)) + 1))[:len(shipment_modes)]\n",
        "\n",
        "# Map shipment modes to colors\n",
        "fedex_palette = dict(zip(shipment_modes, palette_colors))\n",
        "\n",
        "# Create pair plot with KDE diagonal, transparency for better visibility\n",
        "pair_plot = sns.pairplot(df_pairplot,\n",
        "                         hue='Shipment Mode',\n",
        "                         palette=fedex_palette,\n",
        "                         diag_kind='kde',\n",
        "                         plot_kws={'alpha': 0.7})\n",
        "\n",
        "# Set background color for the entire figure and subplots\n",
        "pair_plot.fig.patch.set_facecolor('#F5F5F5')  # light gray background\n",
        "for ax in pair_plot.axes.flatten():\n",
        "    ax.set_facecolor('#F5F5F5')\n",
        "    ax.grid(True, linestyle='--', alpha=0.3)\n",
        "    ax.set_axisbelow(True)\n",
        "\n",
        "# Title and layout adjustments\n",
        "pair_plot.fig.suptitle('FedEx Logistics Data Pair Plot', fontsize=18, fontweight='bold', fontfamily='serif')\n",
        "pair_plot.fig.subplots_adjust(top=0.93)\n",
        "\n",
        "\n",
        "# Display plot\n",
        "plt.show()\n"
      ],
      "metadata": {
        "id": "o58-TEIhveiU"
      },
      "execution_count": null,
      "outputs": []
    },
    {
      "cell_type": "markdown",
      "source": [
        "##### 1. Why did you pick the specific chart?"
      ],
      "metadata": {
        "id": "EXh0U9oCveiU"
      }
    },
    {
      "cell_type": "markdown",
      "source": [
        "~ ***Answer:***\n",
        "* I selected a pair plot because it’s an effective exploratory analysis tool to visualize relationships and distributions across multiple numeric variables, categorized by shipment modes, in one integrated view."
      ],
      "metadata": {
        "id": "eMmPjTByveiU"
      }
    },
    {
      "cell_type": "markdown",
      "source": [
        "##### 2. What is/are the insight(s) found from the chart?"
      ],
      "metadata": {
        "id": "22aHeOlLveiV"
      }
    },
    {
      "cell_type": "markdown",
      "source": [
        "~ ***Insights:***\n",
        "\n",
        "* Weight and Freight Cost have a noticeable positive relationship across all shipment modes, confirming cost increases with shipment weight.\n",
        "\n",
        "* Some shipment modes show higher density clusters for certain value ranges, suggesting certain logistics modes are preferred for high-value shipments.\n",
        "\n",
        "* Line Item Quantity shows minimal correlation with other variables, indicating that quantity alone doesn’t drive cost or insurance decisions"
      ],
      "metadata": {
        "id": "uPQ8RGwHveiV"
      }
    },
    {
      "cell_type": "markdown",
      "source": [
        "## **5. Solution to Business Objective**"
      ],
      "metadata": {
        "id": "JcMwzZxoAimU"
      }
    },
    {
      "cell_type": "markdown",
      "source": [
        "#### What do you suggest the client to achieve Business Objective ?\n",
        "Explain Briefly."
      ],
      "metadata": {
        "id": "8G2x9gOozGDZ"
      }
    },
    {
      "cell_type": "markdown",
      "source": [
        "***The solution to improve FedEx Logistics' operations is to use data insights for better cost management and faster deliveries. By analyzing shipment modes, I found that air shipments cost more but deliver faster, so they should be used for urgent and high-value goods. For heavier or less urgent deliveries, sea and ground transport can help reduce expenses.***\n",
        "\n",
        "***Using heatmaps and scatterplots, I noticed some countries and vendors have higher shipment volumes and delays. Focusing on these areas can improve resource planning and delivery performance.***\n",
        "\n",
        "***I also suggest making real-time dashboards to track key things like freight cost, delivery delays, and shipment volumes. This will help the company quickly identify problems and fix them. Overall, these steps will improve customer satisfaction and help FedEx grow stronger in the competitive market.***"
      ],
      "metadata": {
        "id": "pASKb0qOza21"
      }
    },
    {
      "cell_type": "markdown",
      "source": [
        "# **Conclusion**"
      ],
      "metadata": {
        "id": "gCX9965dhzqZ"
      }
    },
    {
      "cell_type": "markdown",
      "source": [
        "**After analyzing the FedEx logistics dataset of over 10,000 shipments, I found that Air is the most common shipment mode, with top vendors like Aurobindo Pharma handling many shipments. Deliveries peaked between 2006 and 2010, and average lead times were generally short, though some delays need attention. Freight costs varied widely, indicating potential areas for cost optimization. Data quality issues such as missing values and duplicate columns were noted and should be addressed. Overall, improving data accuracy and focusing on delayed shipments and high freight costs can enhance logistics performance.**"
      ],
      "metadata": {
        "id": "Fjb1IsQkh3yE"
      }
    },
    {
      "cell_type": "markdown",
      "source": [
        "### ***Hurrah! I have successfully completed my EDA Capstone Project !!!***"
      ],
      "metadata": {
        "id": "gIfDvo9L0UH2"
      }
    }
  ]
}